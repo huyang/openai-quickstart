{
 "cells": [
  {
   "cell_type": "markdown",
   "metadata": {},
   "source": [
    "## 准备工作\n",
    "\n",
    "1.确保您按照[README](README-CN.md)中的说明在环境中设置了API密钥\n",
    "\n",
    "2.安装依赖包"
   ]
  },
  {
   "cell_type": "code",
   "execution_count": 1,
   "metadata": {},
   "outputs": [
    {
     "name": "stdout",
     "output_type": "stream",
     "text": [
      "Requirement already satisfied: tiktoken in /Users/tiger/anaconda3/envs/openai-quickstart/lib/python3.10/site-packages (0.4.0)\n",
      "Requirement already satisfied: openai in /Users/tiger/anaconda3/envs/openai-quickstart/lib/python3.10/site-packages (0.27.8)\n",
      "Requirement already satisfied: pandas in /Users/tiger/anaconda3/envs/openai-quickstart/lib/python3.10/site-packages (2.0.3)\n",
      "Requirement already satisfied: matplotlib in /Users/tiger/anaconda3/envs/openai-quickstart/lib/python3.10/site-packages (3.7.2)\n",
      "Requirement already satisfied: plotly in /Users/tiger/anaconda3/envs/openai-quickstart/lib/python3.10/site-packages (5.15.0)\n",
      "Requirement already satisfied: scikit-learn in /Users/tiger/anaconda3/envs/openai-quickstart/lib/python3.10/site-packages (1.3.0)\n",
      "Requirement already satisfied: numpy in /Users/tiger/anaconda3/envs/openai-quickstart/lib/python3.10/site-packages (1.25.1)\n",
      "Requirement already satisfied: regex>=2022.1.18 in /Users/tiger/anaconda3/envs/openai-quickstart/lib/python3.10/site-packages (from tiktoken) (2023.6.3)\n",
      "Requirement already satisfied: requests>=2.26.0 in /Users/tiger/anaconda3/envs/openai-quickstart/lib/python3.10/site-packages (from tiktoken) (2.31.0)\n",
      "Requirement already satisfied: tqdm in /Users/tiger/anaconda3/envs/openai-quickstart/lib/python3.10/site-packages (from openai) (4.65.0)\n",
      "Requirement already satisfied: aiohttp in /Users/tiger/anaconda3/envs/openai-quickstart/lib/python3.10/site-packages (from openai) (3.8.5)\n",
      "Requirement already satisfied: python-dateutil>=2.8.2 in /Users/tiger/anaconda3/envs/openai-quickstart/lib/python3.10/site-packages (from pandas) (2.8.2)\n",
      "Requirement already satisfied: pytz>=2020.1 in /Users/tiger/anaconda3/envs/openai-quickstart/lib/python3.10/site-packages (from pandas) (2023.3)\n",
      "Requirement already satisfied: tzdata>=2022.1 in /Users/tiger/anaconda3/envs/openai-quickstart/lib/python3.10/site-packages (from pandas) (2023.3)\n",
      "Requirement already satisfied: contourpy>=1.0.1 in /Users/tiger/anaconda3/envs/openai-quickstart/lib/python3.10/site-packages (from matplotlib) (1.1.0)\n",
      "Requirement already satisfied: cycler>=0.10 in /Users/tiger/anaconda3/envs/openai-quickstart/lib/python3.10/site-packages (from matplotlib) (0.11.0)\n",
      "Requirement already satisfied: fonttools>=4.22.0 in /Users/tiger/anaconda3/envs/openai-quickstart/lib/python3.10/site-packages (from matplotlib) (4.41.1)\n",
      "Requirement already satisfied: kiwisolver>=1.0.1 in /Users/tiger/anaconda3/envs/openai-quickstart/lib/python3.10/site-packages (from matplotlib) (1.4.4)\n",
      "Requirement already satisfied: packaging>=20.0 in /Users/tiger/anaconda3/envs/openai-quickstart/lib/python3.10/site-packages (from matplotlib) (23.1)\n",
      "Requirement already satisfied: pillow>=6.2.0 in /Users/tiger/anaconda3/envs/openai-quickstart/lib/python3.10/site-packages (from matplotlib) (10.0.0)\n",
      "Requirement already satisfied: pyparsing<3.1,>=2.3.1 in /Users/tiger/anaconda3/envs/openai-quickstart/lib/python3.10/site-packages (from matplotlib) (3.0.9)\n",
      "Requirement already satisfied: tenacity>=6.2.0 in /Users/tiger/anaconda3/envs/openai-quickstart/lib/python3.10/site-packages (from plotly) (8.2.2)\n",
      "Requirement already satisfied: scipy>=1.5.0 in /Users/tiger/anaconda3/envs/openai-quickstart/lib/python3.10/site-packages (from scikit-learn) (1.11.1)\n",
      "Requirement already satisfied: joblib>=1.1.1 in /Users/tiger/anaconda3/envs/openai-quickstart/lib/python3.10/site-packages (from scikit-learn) (1.3.1)\n",
      "Requirement already satisfied: threadpoolctl>=2.0.0 in /Users/tiger/anaconda3/envs/openai-quickstart/lib/python3.10/site-packages (from scikit-learn) (3.2.0)\n",
      "Requirement already satisfied: six>=1.5 in /Users/tiger/anaconda3/envs/openai-quickstart/lib/python3.10/site-packages (from python-dateutil>=2.8.2->pandas) (1.16.0)\n",
      "Requirement already satisfied: charset-normalizer<4,>=2 in /Users/tiger/anaconda3/envs/openai-quickstart/lib/python3.10/site-packages (from requests>=2.26.0->tiktoken) (3.2.0)\n",
      "Requirement already satisfied: idna<4,>=2.5 in /Users/tiger/anaconda3/envs/openai-quickstart/lib/python3.10/site-packages (from requests>=2.26.0->tiktoken) (3.4)\n",
      "Requirement already satisfied: urllib3<3,>=1.21.1 in /Users/tiger/anaconda3/envs/openai-quickstart/lib/python3.10/site-packages (from requests>=2.26.0->tiktoken) (2.0.4)\n",
      "Requirement already satisfied: certifi>=2017.4.17 in /Users/tiger/anaconda3/envs/openai-quickstart/lib/python3.10/site-packages (from requests>=2.26.0->tiktoken) (2023.7.22)\n",
      "Requirement already satisfied: attrs>=17.3.0 in /Users/tiger/anaconda3/envs/openai-quickstart/lib/python3.10/site-packages (from aiohttp->openai) (23.1.0)\n",
      "Requirement already satisfied: multidict<7.0,>=4.5 in /Users/tiger/anaconda3/envs/openai-quickstart/lib/python3.10/site-packages (from aiohttp->openai) (6.0.4)\n",
      "Requirement already satisfied: async-timeout<5.0,>=4.0.0a3 in /Users/tiger/anaconda3/envs/openai-quickstart/lib/python3.10/site-packages (from aiohttp->openai) (4.0.2)\n",
      "Requirement already satisfied: yarl<2.0,>=1.0 in /Users/tiger/anaconda3/envs/openai-quickstart/lib/python3.10/site-packages (from aiohttp->openai) (1.9.2)\n",
      "Requirement already satisfied: frozenlist>=1.1.1 in /Users/tiger/anaconda3/envs/openai-quickstart/lib/python3.10/site-packages (from aiohttp->openai) (1.4.0)\n",
      "Requirement already satisfied: aiosignal>=1.1.2 in /Users/tiger/anaconda3/envs/openai-quickstart/lib/python3.10/site-packages (from aiohttp->openai) (1.3.1)\n"
     ]
    }
   ],
   "source": [
    "!pip install tiktoken openai pandas matplotlib plotly scikit-learn numpy"
   ]
  },
  {
   "cell_type": "markdown",
   "metadata": {},
   "source": [
    "## 1. 生成 Embedding (基于 text-embedding-ada-002 模型)"
   ]
  },
  {
   "cell_type": "markdown",
   "metadata": {},
   "source": [
    "嵌入对于处理自然语言和代码非常有用，因为其他机器学习模型和算法（如聚类或搜索）可以轻松地使用和比较它们。"
   ]
  },
  {
   "cell_type": "markdown",
   "metadata": {},
   "source": [
    "![Embedding](images/embedding-vectors.svg)"
   ]
  },
  {
   "attachments": {},
   "cell_type": "markdown",
   "metadata": {},
   "source": [
    "### 电动汽车注册数据集(Electric Vehicle Registration Dataset)\n",
    "\n",
    "Source:[电动汽车注册数据集](https://www.kaggle.com/datasets/venkatsairo4899/ev-population-data)"
   ]
  },
  {
   "cell_type": "markdown",
   "metadata": {},
   "source": [
    "![dataset](images/EV-Registration-Dataet.png)\n",
    "\n",
    "\n",
    "该数据集包含华盛顿州注册局在册的电动（Battery Electric Vehicles）和混动（Plug-in Hybrid Electric Vehicles）汽车信息。\n",
    "\n",
    "我们将把评论摘要和正文合并成一个单一的组合文本。模型将对这个组合文本进行编码，并输出一个单一的向量嵌入。"
   ]
  },
  {
   "cell_type": "code",
   "execution_count": 2,
   "metadata": {},
   "outputs": [],
   "source": [
    "# 导入 pandas 包。Pandas 是一个用于数据处理和分析的 Python 库\n",
    "# 提供了 DataFrame 数据结构，方便进行数据的读取、处理、分析等操作。\n",
    "import pandas as pd\n",
    "# 导入 tiktoken 库。Tiktoken 是 OpenAI 开发的一个库，用于从模型生成的文本中计算 token 数量。\n",
    "import tiktoken\n",
    "# 从 openai.embeddings_utils 包中导入 get_embedding 函数。\n",
    "# 这个函数可以获取 GPT-3 模型生成的嵌入向量。\n",
    "# 嵌入向量是模型内部用于表示输入数据的一种形式。\n",
    "from openai.embeddings_utils import get_embedding"
   ]
  },
  {
   "cell_type": "code",
   "execution_count": 3,
   "metadata": {},
   "outputs": [],
   "source": []
  },
  {
   "attachments": {},
   "cell_type": "markdown",
   "metadata": {},
   "source": [
    "#### 加载数据集"
   ]
  },
  {
   "cell_type": "code",
   "execution_count": 167,
   "metadata": {},
   "outputs": [
    {
     "data": {
      "text/html": [
       "<div>\n",
       "<style scoped>\n",
       "    .dataframe tbody tr th:only-of-type {\n",
       "        vertical-align: middle;\n",
       "    }\n",
       "\n",
       "    .dataframe tbody tr th {\n",
       "        vertical-align: top;\n",
       "    }\n",
       "\n",
       "    .dataframe thead th {\n",
       "        text-align: right;\n",
       "    }\n",
       "</style>\n",
       "<table border=\"1\" class=\"dataframe\">\n",
       "  <thead>\n",
       "    <tr style=\"text-align: right;\">\n",
       "      <th></th>\n",
       "      <th>Model Year</th>\n",
       "      <th>Make</th>\n",
       "      <th>Model</th>\n",
       "      <th>Electric Vehicle Type</th>\n",
       "      <th>Clean Alternative Fuel Vehicle (CAFV) Eligibility</th>\n",
       "      <th>Electric Range</th>\n",
       "      <th>State</th>\n",
       "      <th>combined</th>\n",
       "    </tr>\n",
       "    <tr>\n",
       "      <th>VIN (1-10)</th>\n",
       "      <th></th>\n",
       "      <th></th>\n",
       "      <th></th>\n",
       "      <th></th>\n",
       "      <th></th>\n",
       "      <th></th>\n",
       "      <th></th>\n",
       "      <th></th>\n",
       "    </tr>\n",
       "  </thead>\n",
       "  <tbody>\n",
       "    <tr>\n",
       "      <th>1N4AZ0CP5D</th>\n",
       "      <td>2013</td>\n",
       "      <td>NISSAN</td>\n",
       "      <td>LEAF</td>\n",
       "      <td>Battery Electric Vehicle (BEV)</td>\n",
       "      <td>Clean Alternative Fuel Vehicle Eligible</td>\n",
       "      <td>75</td>\n",
       "      <td>WA</td>\n",
       "      <td>Model: LEAF; EV Type: Battery Electric Vehicle...</td>\n",
       "    </tr>\n",
       "    <tr>\n",
       "      <th>1N4AZ1CP8K</th>\n",
       "      <td>2019</td>\n",
       "      <td>NISSAN</td>\n",
       "      <td>LEAF</td>\n",
       "      <td>Battery Electric Vehicle (BEV)</td>\n",
       "      <td>Clean Alternative Fuel Vehicle Eligible</td>\n",
       "      <td>150</td>\n",
       "      <td>WA</td>\n",
       "      <td>Model: LEAF; EV Type: Battery Electric Vehicle...</td>\n",
       "    </tr>\n",
       "  </tbody>\n",
       "</table>\n",
       "</div>"
      ],
      "text/plain": [
       "            Model Year    Make Model           Electric Vehicle Type  \\\n",
       "VIN (1-10)                                                             \n",
       "1N4AZ0CP5D        2013  NISSAN  LEAF  Battery Electric Vehicle (BEV)   \n",
       "1N4AZ1CP8K        2019  NISSAN  LEAF  Battery Electric Vehicle (BEV)   \n",
       "\n",
       "           Clean Alternative Fuel Vehicle (CAFV) Eligibility  Electric Range  \\\n",
       "VIN (1-10)                                                                     \n",
       "1N4AZ0CP5D           Clean Alternative Fuel Vehicle Eligible              75   \n",
       "1N4AZ1CP8K           Clean Alternative Fuel Vehicle Eligible             150   \n",
       "\n",
       "           State                                           combined  \n",
       "VIN (1-10)                                                           \n",
       "1N4AZ0CP5D    WA  Model: LEAF; EV Type: Battery Electric Vehicle...  \n",
       "1N4AZ1CP8K    WA  Model: LEAF; EV Type: Battery Electric Vehicle...  "
      ]
     },
     "execution_count": 167,
     "metadata": {},
     "output_type": "execute_result"
    }
   ],
   "source": [
    "input_datapath = \"data/Electric_Vehicle_Population_Data.csv\"\n",
    "df = pd.read_csv(input_datapath, index_col=0)\n",
    "df = df[[\"Model Year\", \"Make\", \"Model\", \"Electric Vehicle Type\", \"Clean Alternative Fuel Vehicle (CAFV) Eligibility\", \"Electric Range\", \"State\"]]\n",
    "df = df.dropna()\n",
    "\n",
    "# 将 \"Summary\" 和 \"Text\" 字段组合成新的字段 \"combined\"\n",
    "df[\"combined\"] = (\n",
    "    \"Model: \" + df.Model.str.strip() + \"; EV Type: \" + df.iloc[:,3].str.strip() + \"; Clean: \" + df.iloc[:,4].str.strip() + \"; Range: \" + df[\"Electric Range\"].astype(str).str.strip()\n",
    ")\n",
    "df.head(2)"
   ]
  },
  {
   "cell_type": "code",
   "execution_count": 168,
   "metadata": {},
   "outputs": [
    {
     "data": {
      "text/plain": [
       "'Model: LEAF; EV Type: Battery Electric Vehicle (BEV); Clean: Clean Alternative Fuel Vehicle Eligible; Range: 75'"
      ]
     },
     "execution_count": 168,
     "metadata": {},
     "output_type": "execute_result"
    }
   ],
   "source": [
    "df[\"combined\"][0]"
   ]
  },
  {
   "cell_type": "code",
   "execution_count": null,
   "metadata": {},
   "outputs": [],
   "source": []
  },
  {
   "cell_type": "markdown",
   "metadata": {},
   "source": [
    "#### Embedding 模型关键参数"
   ]
  },
  {
   "cell_type": "code",
   "execution_count": 169,
   "metadata": {},
   "outputs": [],
   "source": [
    "# 模型类型\n",
    "# 建议使用官方推荐的第二代嵌入模型：text-embedding-ada-002\n",
    "embedding_model = \"text-embedding-ada-002\"\n",
    "# text-embedding-ada-002 模型对应的分词器（TOKENIZER）\n",
    "embedding_encoding = \"cl100k_base\"\n",
    "# text-embedding-ada-002 模型支持的输入最大 Token 数是8191，向量维度 1536\n",
    "# 在我们的 DEMO 中过滤 Token 超过 8000 的文本\n",
    "max_tokens = 8000  "
   ]
  },
  {
   "cell_type": "markdown",
   "metadata": {},
   "source": [
    "#### 将样本减少到最近的1,000个评论，并删除过长的样本\n"
   ]
  },
  {
   "cell_type": "code",
   "execution_count": 174,
   "metadata": {},
   "outputs": [
    {
     "data": {
      "text/plain": [
       "1000"
      ]
     },
     "execution_count": 174,
     "metadata": {},
     "output_type": "execute_result"
    }
   ],
   "source": [
    "# 设置要筛选的评论数量为1000\n",
    "top_n = 1000\n",
    "# 对DataFrame进行排序，基于\"Time\"列，然后选取最后的2000条评论。\n",
    "# 这个假设是，我们认为最近的评论可能更相关，因此我们将对它们进行初始筛选。\n",
    "df = df.sort_values(by=[\"Make\", \"Model Year\", \"Model\", \"State\"], ascending=False).tail(top_n * 3) \n",
    "# 丢弃\"Time\"列，因为我们在这个分析中不再需要它。\n",
    "#df.drop(\"Model Year\", axis=1, inplace=True)\n",
    "# 从'embedding_encoding'获取编码\n",
    "encoding = tiktoken.get_encoding(embedding_encoding)\n",
    "\n",
    "# 计算每条评论的token数量。我们通过使用encoding.encode方法获取每条评论的token数，然后把结果存储在新的'n_tokens'列中。\n",
    "df[\"n_tokens\"] = df.combined.apply(lambda x: len(encoding.encode(x)))\n",
    "\n",
    "# 如果评论的token数量超过最大允许的token数量，我们将忽略（删除）该评论。\n",
    "# 我们使用.tail方法获取token数量在允许范围内的最后top_n（1000）条评论。\n",
    "df = df[df.n_tokens <= max_tokens].tail(top_n)\n",
    "\n",
    "# 打印出剩余评论的数量。\n",
    "len(df)"
   ]
  },
  {
   "cell_type": "code",
   "execution_count": 175,
   "metadata": {},
   "outputs": [
    {
     "data": {
      "text/html": [
       "<div>\n",
       "<style scoped>\n",
       "    .dataframe tbody tr th:only-of-type {\n",
       "        vertical-align: middle;\n",
       "    }\n",
       "\n",
       "    .dataframe tbody tr th {\n",
       "        vertical-align: top;\n",
       "    }\n",
       "\n",
       "    .dataframe thead th {\n",
       "        text-align: right;\n",
       "    }\n",
       "</style>\n",
       "<table border=\"1\" class=\"dataframe\">\n",
       "  <thead>\n",
       "    <tr style=\"text-align: right;\">\n",
       "      <th></th>\n",
       "      <th>Model Year</th>\n",
       "      <th>Make</th>\n",
       "      <th>Model</th>\n",
       "      <th>Electric Vehicle Type</th>\n",
       "      <th>Clean Alternative Fuel Vehicle (CAFV) Eligibility</th>\n",
       "      <th>Electric Range</th>\n",
       "      <th>State</th>\n",
       "      <th>combined</th>\n",
       "      <th>n_tokens</th>\n",
       "    </tr>\n",
       "    <tr>\n",
       "      <th>VIN (1-10)</th>\n",
       "      <th></th>\n",
       "      <th></th>\n",
       "      <th></th>\n",
       "      <th></th>\n",
       "      <th></th>\n",
       "      <th></th>\n",
       "      <th></th>\n",
       "      <th></th>\n",
       "      <th></th>\n",
       "    </tr>\n",
       "  </thead>\n",
       "  <tbody>\n",
       "    <tr>\n",
       "      <th>1W9WL21BXA</th>\n",
       "      <td>2010</td>\n",
       "      <td>WHEEGO ELECTRIC CARS</td>\n",
       "      <td>WHEEGO</td>\n",
       "      <td>Plug-in Hybrid Electric Vehicle (PHEV)</td>\n",
       "      <td>Clean Alternative Fuel Vehicle Eligible</td>\n",
       "      <td>100</td>\n",
       "      <td>WA</td>\n",
       "      <td>Model: WHEEGO; EV Type: Plug-in Hybrid Electri...</td>\n",
       "      <td>33</td>\n",
       "    </tr>\n",
       "    <tr>\n",
       "      <th>1W9WL21B6A</th>\n",
       "      <td>2010</td>\n",
       "      <td>WHEEGO ELECTRIC CARS</td>\n",
       "      <td>WHEEGO</td>\n",
       "      <td>Plug-in Hybrid Electric Vehicle (PHEV)</td>\n",
       "      <td>Clean Alternative Fuel Vehicle Eligible</td>\n",
       "      <td>100</td>\n",
       "      <td>WA</td>\n",
       "      <td>Model: WHEEGO; EV Type: Plug-in Hybrid Electri...</td>\n",
       "      <td>33</td>\n",
       "    </tr>\n",
       "    <tr>\n",
       "      <th>1W9WL21B6A</th>\n",
       "      <td>2010</td>\n",
       "      <td>WHEEGO ELECTRIC CARS</td>\n",
       "      <td>WHEEGO</td>\n",
       "      <td>Plug-in Hybrid Electric Vehicle (PHEV)</td>\n",
       "      <td>Clean Alternative Fuel Vehicle Eligible</td>\n",
       "      <td>100</td>\n",
       "      <td>WA</td>\n",
       "      <td>Model: WHEEGO; EV Type: Plug-in Hybrid Electri...</td>\n",
       "      <td>33</td>\n",
       "    </tr>\n",
       "    <tr>\n",
       "      <th>YV4BR0CZ5N</th>\n",
       "      <td>2022</td>\n",
       "      <td>VOLVO</td>\n",
       "      <td>XC90</td>\n",
       "      <td>Plug-in Hybrid Electric Vehicle (PHEV)</td>\n",
       "      <td>Not eligible due to low battery range</td>\n",
       "      <td>18</td>\n",
       "      <td>GA</td>\n",
       "      <td>Model: XC90; EV Type: Plug-in Hybrid Electric ...</td>\n",
       "      <td>32</td>\n",
       "    </tr>\n",
       "    <tr>\n",
       "      <th>7JRBR0FL1N</th>\n",
       "      <td>2022</td>\n",
       "      <td>VOLVO</td>\n",
       "      <td>S60</td>\n",
       "      <td>Plug-in Hybrid Electric Vehicle (PHEV)</td>\n",
       "      <td>Not eligible due to low battery range</td>\n",
       "      <td>22</td>\n",
       "      <td>MT</td>\n",
       "      <td>Model: S60; EV Type: Plug-in Hybrid Electric V...</td>\n",
       "      <td>32</td>\n",
       "    </tr>\n",
       "    <tr>\n",
       "      <th>...</th>\n",
       "      <td>...</td>\n",
       "      <td>...</td>\n",
       "      <td>...</td>\n",
       "      <td>...</td>\n",
       "      <td>...</td>\n",
       "      <td>...</td>\n",
       "      <td>...</td>\n",
       "      <td>...</td>\n",
       "      <td>...</td>\n",
       "    </tr>\n",
       "    <tr>\n",
       "      <th>5YJSA1S21F</th>\n",
       "      <td>2015</td>\n",
       "      <td>TESLA</td>\n",
       "      <td>MODEL S</td>\n",
       "      <td>Battery Electric Vehicle (BEV)</td>\n",
       "      <td>Clean Alternative Fuel Vehicle Eligible</td>\n",
       "      <td>208</td>\n",
       "      <td>AZ</td>\n",
       "      <td>Model: MODEL S; EV Type: Battery Electric Vehi...</td>\n",
       "      <td>28</td>\n",
       "    </tr>\n",
       "    <tr>\n",
       "      <th>5YJSA1H16E</th>\n",
       "      <td>2014</td>\n",
       "      <td>TESLA</td>\n",
       "      <td>MODEL S</td>\n",
       "      <td>Battery Electric Vehicle (BEV)</td>\n",
       "      <td>Clean Alternative Fuel Vehicle Eligible</td>\n",
       "      <td>208</td>\n",
       "      <td>CA</td>\n",
       "      <td>Model: MODEL S; EV Type: Battery Electric Vehi...</td>\n",
       "      <td>28</td>\n",
       "    </tr>\n",
       "    <tr>\n",
       "      <th>5YJSA1CG3D</th>\n",
       "      <td>2013</td>\n",
       "      <td>TESLA</td>\n",
       "      <td>MODEL S</td>\n",
       "      <td>Battery Electric Vehicle (BEV)</td>\n",
       "      <td>Clean Alternative Fuel Vehicle Eligible</td>\n",
       "      <td>208</td>\n",
       "      <td>CA</td>\n",
       "      <td>Model: MODEL S; EV Type: Battery Electric Vehi...</td>\n",
       "      <td>28</td>\n",
       "    </tr>\n",
       "    <tr>\n",
       "      <th>5YJRE1A1XA</th>\n",
       "      <td>2010</td>\n",
       "      <td>TESLA</td>\n",
       "      <td>ROADSTER</td>\n",
       "      <td>Battery Electric Vehicle (BEV)</td>\n",
       "      <td>Clean Alternative Fuel Vehicle Eligible</td>\n",
       "      <td>245</td>\n",
       "      <td>WA</td>\n",
       "      <td>Model: ROADSTER; EV Type: Battery Electric Veh...</td>\n",
       "      <td>28</td>\n",
       "    </tr>\n",
       "    <tr>\n",
       "      <th>5YJRE1A16A</th>\n",
       "      <td>2010</td>\n",
       "      <td>TESLA</td>\n",
       "      <td>ROADSTER</td>\n",
       "      <td>Battery Electric Vehicle (BEV)</td>\n",
       "      <td>Clean Alternative Fuel Vehicle Eligible</td>\n",
       "      <td>245</td>\n",
       "      <td>WA</td>\n",
       "      <td>Model: ROADSTER; EV Type: Battery Electric Veh...</td>\n",
       "      <td>28</td>\n",
       "    </tr>\n",
       "  </tbody>\n",
       "</table>\n",
       "<p>200 rows × 9 columns</p>\n",
       "</div>"
      ],
      "text/plain": [
       "            Model Year                  Make     Model  \\\n",
       "VIN (1-10)                                               \n",
       "1W9WL21BXA        2010  WHEEGO ELECTRIC CARS    WHEEGO   \n",
       "1W9WL21B6A        2010  WHEEGO ELECTRIC CARS    WHEEGO   \n",
       "1W9WL21B6A        2010  WHEEGO ELECTRIC CARS    WHEEGO   \n",
       "YV4BR0CZ5N        2022                 VOLVO      XC90   \n",
       "7JRBR0FL1N        2022                 VOLVO       S60   \n",
       "...                ...                   ...       ...   \n",
       "5YJSA1S21F        2015                 TESLA   MODEL S   \n",
       "5YJSA1H16E        2014                 TESLA   MODEL S   \n",
       "5YJSA1CG3D        2013                 TESLA   MODEL S   \n",
       "5YJRE1A1XA        2010                 TESLA  ROADSTER   \n",
       "5YJRE1A16A        2010                 TESLA  ROADSTER   \n",
       "\n",
       "                             Electric Vehicle Type  \\\n",
       "VIN (1-10)                                           \n",
       "1W9WL21BXA  Plug-in Hybrid Electric Vehicle (PHEV)   \n",
       "1W9WL21B6A  Plug-in Hybrid Electric Vehicle (PHEV)   \n",
       "1W9WL21B6A  Plug-in Hybrid Electric Vehicle (PHEV)   \n",
       "YV4BR0CZ5N  Plug-in Hybrid Electric Vehicle (PHEV)   \n",
       "7JRBR0FL1N  Plug-in Hybrid Electric Vehicle (PHEV)   \n",
       "...                                            ...   \n",
       "5YJSA1S21F          Battery Electric Vehicle (BEV)   \n",
       "5YJSA1H16E          Battery Electric Vehicle (BEV)   \n",
       "5YJSA1CG3D          Battery Electric Vehicle (BEV)   \n",
       "5YJRE1A1XA          Battery Electric Vehicle (BEV)   \n",
       "5YJRE1A16A          Battery Electric Vehicle (BEV)   \n",
       "\n",
       "           Clean Alternative Fuel Vehicle (CAFV) Eligibility  Electric Range  \\\n",
       "VIN (1-10)                                                                     \n",
       "1W9WL21BXA           Clean Alternative Fuel Vehicle Eligible             100   \n",
       "1W9WL21B6A           Clean Alternative Fuel Vehicle Eligible             100   \n",
       "1W9WL21B6A           Clean Alternative Fuel Vehicle Eligible             100   \n",
       "YV4BR0CZ5N             Not eligible due to low battery range              18   \n",
       "7JRBR0FL1N             Not eligible due to low battery range              22   \n",
       "...                                                      ...             ...   \n",
       "5YJSA1S21F           Clean Alternative Fuel Vehicle Eligible             208   \n",
       "5YJSA1H16E           Clean Alternative Fuel Vehicle Eligible             208   \n",
       "5YJSA1CG3D           Clean Alternative Fuel Vehicle Eligible             208   \n",
       "5YJRE1A1XA           Clean Alternative Fuel Vehicle Eligible             245   \n",
       "5YJRE1A16A           Clean Alternative Fuel Vehicle Eligible             245   \n",
       "\n",
       "           State                                           combined  n_tokens  \n",
       "VIN (1-10)                                                                     \n",
       "1W9WL21BXA    WA  Model: WHEEGO; EV Type: Plug-in Hybrid Electri...        33  \n",
       "1W9WL21B6A    WA  Model: WHEEGO; EV Type: Plug-in Hybrid Electri...        33  \n",
       "1W9WL21B6A    WA  Model: WHEEGO; EV Type: Plug-in Hybrid Electri...        33  \n",
       "YV4BR0CZ5N    GA  Model: XC90; EV Type: Plug-in Hybrid Electric ...        32  \n",
       "7JRBR0FL1N    MT  Model: S60; EV Type: Plug-in Hybrid Electric V...        32  \n",
       "...          ...                                                ...       ...  \n",
       "5YJSA1S21F    AZ  Model: MODEL S; EV Type: Battery Electric Vehi...        28  \n",
       "5YJSA1H16E    CA  Model: MODEL S; EV Type: Battery Electric Vehi...        28  \n",
       "5YJSA1CG3D    CA  Model: MODEL S; EV Type: Battery Electric Vehi...        28  \n",
       "5YJRE1A1XA    WA  Model: ROADSTER; EV Type: Battery Electric Veh...        28  \n",
       "5YJRE1A16A    WA  Model: ROADSTER; EV Type: Battery Electric Veh...        28  \n",
       "\n",
       "[200 rows x 9 columns]"
      ]
     },
     "execution_count": 175,
     "metadata": {},
     "output_type": "execute_result"
    }
   ],
   "source": [
    "df.head(200)"
   ]
  },
  {
   "attachments": {},
   "cell_type": "markdown",
   "metadata": {},
   "source": [
    "#### 生成 Embeddings 并保存（非必须步骤，可直接复用项目中文件）"
   ]
  },
  {
   "cell_type": "code",
   "execution_count": 176,
   "metadata": {},
   "outputs": [],
   "source": [
    "# 实际生成会耗时几分钟\n",
    "# 提醒：非必须步骤，可直接复用项目中的嵌入文件 fine_food_reviews_with_embeddings_1k\n",
    "df[\"embedding\"] = df.combined.apply(lambda x: get_embedding(x, engine=embedding_model))\n",
    "\n",
    "output_datapath = \"data/ev_registration_with_embeddings_1k_2146.csv\"\n",
    "\n",
    "df.to_csv(output_datapath)"
   ]
  },
  {
   "cell_type": "code",
   "execution_count": null,
   "metadata": {},
   "outputs": [],
   "source": []
  },
  {
   "cell_type": "code",
   "execution_count": null,
   "metadata": {},
   "outputs": [],
   "source": []
  },
  {
   "attachments": {},
   "cell_type": "markdown",
   "metadata": {},
   "source": [
    "## 2.读取 fine_food_reviews_with_embeddings_1k 嵌入文件"
   ]
  },
  {
   "cell_type": "code",
   "execution_count": 177,
   "metadata": {},
   "outputs": [],
   "source": [
    "embedding_datapath = \"data/ev_registration_with_embeddings_1k_2146.csv\"\n",
    "\n",
    "df_embedded = pd.read_csv(embedding_datapath, index_col=0)"
   ]
  },
  {
   "attachments": {},
   "cell_type": "markdown",
   "metadata": {},
   "source": [
    "#### 查看 Embedding 结果"
   ]
  },
  {
   "cell_type": "code",
   "execution_count": 178,
   "metadata": {},
   "outputs": [
    {
     "data": {
      "text/plain": [
       "VIN (1-10)\n",
       "1W9WL21BXA    [0.027527090162038803, -0.016709953546524048, ...\n",
       "1W9WL21B6A    [0.027527090162038803, -0.016709953546524048, ...\n",
       "1W9WL21B6A    [0.027527090162038803, -0.016709953546524048, ...\n",
       "YV4BR0CZ5N    [0.015543443150818348, -0.020742183551192284, ...\n",
       "7JRBR0FL1N    [0.01142300944775343, -0.010459070093929768, 0...\n",
       "                                    ...                        \n",
       "WA1AAAGE3P    [0.018343627452850342, -0.03631985932588577, 0...\n",
       "WA1VABGE1P    [0.018343627452850342, -0.03631985932588577, 0...\n",
       "WA1VABGE7M    [0.009440302848815918, -0.017417194321751595, ...\n",
       "WAUUPBFF9H    [0.011015095748007298, 0.0011914892820641398, ...\n",
       "WAUTPBFF5H    [0.011015095748007298, 0.0011914892820641398, ...\n",
       "Name: embedding, Length: 1000, dtype: object"
      ]
     },
     "execution_count": 178,
     "metadata": {},
     "output_type": "execute_result"
    }
   ],
   "source": [
    "df_embedded[\"embedding\"]"
   ]
  },
  {
   "cell_type": "code",
   "execution_count": 21,
   "metadata": {},
   "outputs": [
    {
     "data": {
      "text/plain": [
       "34440"
      ]
     },
     "execution_count": 21,
     "metadata": {},
     "output_type": "execute_result"
    }
   ],
   "source": [
    "len(df_embedded[\"embedding\"][0])"
   ]
  },
  {
   "cell_type": "code",
   "execution_count": 22,
   "metadata": {},
   "outputs": [
    {
     "data": {
      "text/plain": [
       "str"
      ]
     },
     "execution_count": 22,
     "metadata": {},
     "output_type": "execute_result"
    }
   ],
   "source": [
    "type(df_embedded[\"embedding\"][0])"
   ]
  },
  {
   "cell_type": "code",
   "execution_count": 83,
   "metadata": {},
   "outputs": [
    {
     "data": {
      "text/plain": [
       "'[0.012507181614637375, -0.028640011325478554, 0.02757057547569275, 0.010485687293112278, -0.048489782959222794, 0.01984977163374424, -0.024023178964853287, -0.015324232168495655, -0.0019106382969766855, -0.0379258431494236, -0.0022953744046390057, 0.04415987432003021, -0.01751527190208435, -0.022810282185673714, -0.004470111336559057, -0.0009194539161399007, 0.0008493537316098809, -0.018871629610657692, 0.02245815098285675, -0.004861368332058191, -0.025575164705514908, 0.0006443513557314873, -0.009227144531905651, 0.009977053850889206, 0.025170866400003433, 0.013328821398317814, 0.010035742074251175, -0.013980916701257229, 0.001969326985999942, 0.01879337802529335, 0.017971737310290337, 0.005229801870882511, -0.01601545326411724, -0.025144783779978752, -0.000166182333487086, -0.020136693492531776, 0.003987560980021954, 0.001574809430167079, 0.0372476652264595, -0.022562487050890923, 0.005656924098730087, 0.021114835515618324, -0.01193985901772976, -0.002921385457739234, -0.019667185842990875, 0.015102519653737545, -0.02432314306497574, 0.008235959336161613, 0.009435814805328846, 0.017397893592715263, 0.003932132851332426, 0.005008089356124401, 0.0040364679880440235, -0.006172079127281904, -0.008901096880435944, -0.01854558102786541, -0.01421567052602768, 0.00924670696258545, -0.007127398159354925, 0.0015291627496480942, 0.01682405173778534, -0.008451150730252266, -0.02354062907397747, 0.0036680344492197037, -0.03633473441004753, -0.016145871952176094, -0.0033974149264395237, -0.002960511250421405, -0.012637601234018803, 0.007596906740218401, -0.02076270431280136, -0.0004098009376320988, 0.03286558762192726, -0.0005722133792005479, 0.010374831035733223, -0.005953627172857523, 0.025992507115006447, 0.009090203791856766, -0.01940634660422802, 0.006860039196908474, 0.0140200424939394, -0.034300196915864944, -0.015128604136407375, 0.03941262140870094, 0.020945291966199875, -0.006905686110258102, -0.0020345363300293684, 0.01837603747844696, -0.010792172513902187, 0.00491353590041399, 0.02459702268242836, 0.0025904474314302206, 0.015845907852053642, 0.004590748809278011, 0.01840212009847164, 0.03150923177599907, 0.021610427647829056, 0.003345247358083725, 0.009872717782855034, -0.0165762547403574, 0.006582899019122124, 0.01533727440983057, -0.0297876987606287, -0.014098294079303741, -0.06160993501543999, -0.011000842787325382, 0.0014158613048493862, 0.004880931228399277, 0.020893123000860214, 0.0035571781918406487, -0.0014166763285174966, 0.006873081438243389, 0.014306964352726936, -0.034326281398534775, 0.025640375912189484, -0.0002812159655150026, 0.010511770844459534, -0.01006182562559843, -0.012709331698715687, -0.011946380138397217, 0.030439794063568115, 0.010035742074251175, 0.0066350665874779224, -0.039960380643606186, 0.009670568630099297, -0.0001666917814873159, -0.005744956899434328, -0.01130080595612526, -0.01707184687256813, 0.003912569954991341, -0.01070087868720293, 0.014320005662739277, 0.010218328796327114, 0.007531697396188974, -0.03753458708524704, 0.009866197593510151, -0.03763892129063606, 0.010733483359217644, -0.0184934139251709, -0.02412751503288746, -0.003860402386635542, 0.026996733620762825, -0.0060090553015470505, 0.012970169074833393, 0.00273064780049026, 0.002517086686566472, -0.008516361005604267, 0.022888533771038055, 0.0254838727414608, -0.01066175289452076, 0.00392235117033124, 0.011366015300154686, 0.054202135652303696, -0.003345247358083725, -0.004760293290019035, -0.0006414984236471355, -0.0035278338473290205, 0.011039968580007553, -0.018975963816046715, -0.02270594798028469, -0.008848928846418858, -0.0022807023487985134, -0.02270594798028469, 0.003583261976018548, 0.011026926338672638, 0.015180771239101887, 0.010042263194918633, 0.005291750654578209, 0.025640375912189484, -0.0006410909118130803, 0.007081751711666584, 0.04796810820698738, -0.015585070475935936, 0.005122206173837185, -0.0032083073165267706, 0.012050715275108814, 0.01685013435781002, -0.011829002760350704, -0.018884671851992607, -0.007205649744719267, 0.01707184687256813, 0.004841805435717106, 0.03234391286969185, 0.005894938949495554, 0.0029914858750998974, -0.017202265560626984, 0.027466241270303726, -0.04322085529565811, 0.03200482204556465, 0.002339390804991126, 0.017058804631233215, 0.019145509228110313, 0.004075593780726194, 0.005787343252450228, -0.6435394883155823, -0.012155050411820412, -0.0007319766446016729, 0.017945654690265656, 0.00565040297806263, 0.01968022622168064, 0.012037673965096474, -0.017345726490020752, -0.019223760813474655, 0.006432916969060898, -0.012944085523486137, 0.004499455448240042, -0.015506818890571594, -0.01574157364666462, 0.00020245512132532895, -0.025223033502697945, 0.022562487050890923, 0.005226541310548782, 0.004248398821800947, 0.010400915518403053, -0.00960535928606987, 0.011913775466382504, -0.024518771097064018, 0.00332079385407269, 0.01724139228463173, -0.013876581564545631, 0.03672599047422409, 0.02204081043601036, 0.010948674753308296, 0.021453924477100372, 0.013889623805880547, 0.027935748919844627, 0.005236322991549969, -0.025275202468037605, 0.04731601104140282, -0.024636149406433105, 0.003423498710617423, 0.03709116205573082, 0.01645887829363346, 0.023175455629825592, -0.0493505485355854, 0.011379057541489601, -0.015454651787877083, -0.0035506573040038347, -0.003540875855833292, 0.0023361302446573973, 0.01485472358763218, 0.008470714092254639, 0.010335705243051052, -0.009546671062707901, 0.022249480709433556, 0.018923796713352203, -0.008359857834875584, 0.030100705102086067, -0.007857744581997395, -0.01165945827960968, 0.02764882706105709, -0.011352973990142345, -0.0029344274662435055, 0.022640738636255264, 0.029448609799146652, -0.024166639894247055, -0.009416251443326473, -0.032161325216293335, -0.007962079718708992, 0.025340411812067032, -0.026005547493696213, -0.010192244313657284, 0.01604153774678707, -0.02204081043601036, -0.0008061524131335318, 0.0030338719952851534, -0.005497160833328962, 0.00664158770814538, 0.01632845774292946, -0.011352973990142345, 0.036412984132766724, 0.00778601411730051, 0.004303826950490475, 0.010779130272567272, 0.019080299884080887, -0.027101067826151848, -0.003658253001049161, -0.01854558102786541, 0.03273516893386841, -0.012970169074833393, 0.006944811902940273, -0.008209875784814358, -0.00419297069311142, 0.026383763179183006, 0.023410210385918617, 0.0060449205338954926, 0.005402606911957264, -0.021506093442440033, -0.019510682672262192, -0.005203717853873968, -0.03377852216362953, -3.482085230643861e-05, 0.02848351001739502, -0.040821146219968796, -0.004639655817300081, -0.0208800807595253, 0.015676364302635193, 0.00011523740977281705, 0.009292353875935078, 0.009474940598011017, -0.014750388450920582, -0.03205699101090431, 0.029239939525723457, -0.01638062670826912, 0.007636032532900572, -0.006912206765264273, 0.007642553187906742, 0.039543040096759796, -0.022966785356402397, -0.026996733620762825, 0.016067620366811752, -0.01270281057804823, -0.016198039054870605, -0.03680424019694328, 0.005666705314069986, 0.012246344238519669, -0.014150461181998253, 0.013322300277650356, -0.022366859018802643, 0.012670205906033516, -0.01034222636371851, -0.013993958942592144, -0.017750024795532227, -0.017150098457932472, -0.007244775537401438, 0.009540149942040443, 0.02757057547569275, 0.0018111938843503594, 0.032135240733623505, 0.017371810972690582, 0.01507643610239029, -0.017619606107473373, 0.0018780336249619722, -0.01884554512798786, -0.03883877769112587, 0.0202410276979208, -0.004603790584951639, -0.00473420973867178, -0.005546067841351032, -0.019836729392409325, -0.007518655154854059, 0.007896870374679565, 0.0028170503210276365, -0.002256248611956835, -0.008620696142315865, -0.0026181614957749844, -0.008059893734753132, 0.01915855146944523, 0.002634463831782341, -0.013889623805880547, 0.002719236072152853, -0.016054578125476837, 0.009455377236008644, -0.0202410276979208, 0.017176182940602303, 0.04243834316730499, -0.008092498406767845, -0.01297669019550085, 0.02181909792125225, 0.018584707751870155, 0.0126571636646986, 0.027857497334480286, 0.003273516893386841, -0.020671410486102104, 0.005063517484813929, -0.0041212402284145355, 0.007446924690157175, -0.004841805435717106, -0.01006182562559843, -0.0133809894323349, -0.004874410107731819, -0.020397530868649483, 0.0021095273550599813, -0.010277017019689083, 0.004385338630527258, 0.008666342124342918, -0.015924159437417984, 0.01574157364666462, 0.008725031279027462, -0.02132350578904152, 0.024244891479611397, 0.007877307943999767, -0.04024730250239372, 0.03372635319828987, -0.005272188223898411, 0.025940338149666786, 0.014789514243602753, 0.005415648687630892, -0.0057286545634269714, 0.009109767153859138, -0.01485472358763218, 0.020867040380835533, -0.0027355384081602097, -0.000368026114301756, 0.015976326540112495, 0.014385215938091278, 0.01665450632572174, -0.004049509763717651, 0.05088949203491211, -0.007029584143310785, -0.005118945613503456, 5.5122403864515945e-05, 0.02464919164776802, 0.04702908918261528, 0.009761862456798553, -0.015585070475935936, -0.03701291233301163, 0.000357225799234584, -0.024114472791552544, 0.011189949698746204, 0.01854558102786541, 0.021519135683774948, 0.0013726599281653762, -0.022419026121497154, -0.01361574325710535, -0.009390167891979218, 0.021088752895593643, -0.00177695881575346, 0.0037462858017534018, -0.006354665849357843, 0.005477597936987877, 0.029657280072569847, -0.014972100965678692, -0.007225212641060352, -0.006211204919964075, 0.006723099388182163, 0.0101857241243124, 0.0021600646432489157, -0.006846997421234846, 0.0009210841963067651, 0.027309738099575043, -0.006592680234462023, 0.020227987319231033, -0.0005306422826834023, 0.017867403104901314, 0.04830719530582428, -0.0015446500619873405, 0.0010506880935281515, 0.015898076817393303, -0.001123233581893146, 0.015898076817393303, 0.01804998889565468, 0.003697378560900688, 0.0375867560505867, -0.03396110609173775, 0.002155174035578966, -0.021023541688919067, -0.003749546129256487, 0.00029955615173093975, -0.023605838418006897, 0.0037528066895902157, -0.003103972179815173, 0.008790240623056889, 0.03070063143968582, -0.00978794600814581, 0.007088272366672754, -0.010270495899021626, -0.0022269045002758503, 0.025796877220273018, -0.013785287737846375, -0.029057353734970093, -0.01287887617945671, 0.0019807384815067053, -0.002761622192338109, -0.00555910961702466, -0.02550995536148548, 0.015154687687754631, -0.02307112142443657, 0.01551986113190651, -0.0018421683926135302, -0.017137056216597557, -0.016693631187081337, 0.03148314729332924, -0.0044179437682032585, -0.001340055256150663, -0.031691815704107285, 0.014867765828967094, 0.0018470591166988015, -0.0202410276979208, -0.005008089356124401, -0.01771089993417263, 0.01220069732517004, 0.004160366021096706, 0.03928220272064209, -0.001827496220357716, 0.01579374074935913, 0.010237891227006912, 0.01621108129620552, 0.003850620938464999, -0.01447650883346796, 0.04027338698506355, 0.0072969431057572365, -0.009142371825873852, 0.00624054903164506, -0.023331958800554276, -0.00800772663205862, 0.004424464423209429, 0.006269893143326044, 0.014046126045286655, -0.012533266097307205, 0.011711626313626766, -0.02887476608157158, 0.007055667694658041, -0.01551986113190651, -0.0133809894323349, -0.023592796176671982, -0.008366378955543041, -0.02848351001739502, -0.03870835900306702, 0.009116288274526596, 0.011333410628139973, -0.014098294079303741, 0.01114430371671915, 0.015206854790449142, 0.00392235117033124, -0.023697132244706154, -0.015102519653737545, 0.002688261680305004, 0.054619476199150085, 0.012265906669199467, 0.013407072983682156, 0.01143774576485157, 0.000148453502333723, 0.00012889064964838326, -0.032943837344646454, -0.01488080807030201, 0.0023719954770058393, 0.006234027910977602, -0.019888896495103836, 0.003011048538610339, -0.0018405381124466658, -0.022092977538704872, 0.010870423167943954, -0.00492005655542016, -0.006028618197888136, -0.01383745577186346, 0.0019073778530582786, -0.02504044771194458, -0.0036419504322111607, -0.036073893308639526, -0.021675636991858482, 0.00029099738458171487, 0.028196588158607483, 0.0031577700283378363, 0.052845779806375504, -0.0007935180910862982, 0.018336910754442215, -0.0022595091722905636, 0.000410616077715531, 0.009996616281569004, 0.0036321692168712616, -0.01050525065511465, 0.010250933468341827, 0.0012177873868495226, 0.007127398159354925, 0.008659821934998035, 0.030935386195778847, 0.003465884830802679, 0.030283290892839432, 0.004408162087202072, 0.004056030884385109, -0.0006374228396452963, 0.00800772663205862, -0.02046274021267891, -0.0018861847929656506, 0.023631922900676727, 0.010583501309156418, -0.010453082621097565, 0.03680424019694328, -0.005115685053169727, -0.029970286414027214, 0.005549328401684761, -0.014489551074802876, 0.02570558525621891, 0.01815432496368885, -0.03192657232284546, -0.0021763669792562723, -0.030726715922355652, -0.0027811850886791945, -0.016198039054870605, -0.0035506573040038347, -0.0037886719219386578, -0.03636081516742706, -0.012748457491397858, 0.01002269983291626, -0.023201540112495422, -0.02445356175303459, -0.01175727229565382, -0.008888054639101028, -0.02326674945652485, -0.026227260008454323, 0.02462310716509819, 0.015976326540112495, -0.010042263194918633, 0.0020166037138551474, -0.015598111785948277, 0.0018715126207098365, 0.03938653692603111, 0.003284928621724248, 0.01014659833163023, -0.00996401160955429, -0.0010979649377986789, 0.0011965943267568946, 0.007309984881430864, -0.02314937300980091, -0.013120151124894619, 0.009911843575537205, 0.004496194887906313, 0.026996733620762825, -0.013772246427834034, 0.021779973059892654, 0.0008868491859175265, -0.013876581564545631, 0.0006133768474683166, -0.0009993355488404632, 0.030909303575754166, 0.003518052399158478, 0.004238617606461048, 0.005265667103230953, -0.04324693977832794, 0.0006810317281633615, -0.027048900723457336, -0.0028170503210276365, -0.004297305829823017, -0.012546307407319546, 0.01143774576485157, -0.002953990362584591, 0.005255885422229767, 0.02112787775695324, -0.02157130278646946, -0.006925249006599188, -0.0006586159579455853, -0.012402846477925777, 0.012533266097307205, -0.014085251837968826, -0.005637361202389002, -0.020697494968771935, -0.010387873277068138, 0.0071600028313696384, -0.029213855043053627, 0.014567801728844643, 0.011861608363687992, -0.0008550595375709236, 0.018754251301288605, -0.0024975237902253866, 0.0020997459068894386, -0.01840212009847164, 0.036073893308639526, 0.01287887617945671, 0.0235667135566473, -0.007036104798316956, -0.009879238903522491, -0.01962805911898613, -0.03161356598138809, -0.010681316256523132, 0.023605838418006897, 0.0018323869444429874, -0.04311652109026909, -0.008666342124342918, 0.024297058582305908, -0.008861971087753773, -0.0038408394902944565, 0.01488080807030201, -0.024610064923763275, -0.01726747490465641, 0.022092977538704872, -0.003919091075658798, 0.026462014764547348, -0.009664047509431839, 0.017176182940602303, -0.03761284053325653, -0.027779247611761093, -0.017228350043296814, -0.03377852216362953, -0.0022839626763015985, -0.01904117316007614, 0.02198864333331585, 0.05255885794758797, 0.015389441512525082, -0.015585070475935936, -0.00021254221792332828, -0.013146234676241875, 0.0022317951079458, 0.006820913404226303, 0.009885760024189949, 0.01790652796626091, -0.03161356598138809, 0.011737709864974022, 0.00419297069311142, -0.007825139909982681, 0.0064003122970461845, -0.024505730718374252, -0.039516955614089966, 0.0183238685131073, -0.004248398821800947, -0.018010864034295082, -0.003270256333053112, -0.010172681882977486, -0.011705105192959309, -0.008822845295071602, 0.003203416708856821, -0.008725031279027462, -0.025418663397431374, -0.017358768731355667, -0.002316567348316312, 0.010818256065249443, 0.0008607654017396271, 0.003625648096203804, 0.01002269983291626, 0.013022337108850479, 0.031248392537236214, 0.0019187894649803638, -0.004955921787768602, 6.994737486820668e-05, -0.0253143273293972, -0.0172153078019619, -0.0027045640163123608, 0.007277380209416151, 0.002670329064130783, 0.02354062907397747, -0.0013840716565027833, -0.009651006199419498, -0.0014060798566788435, 0.00800772663205862, 0.012246344238519669, -0.017645690590143204, 0.018754251301288605, -0.0337524376809597, -0.01615891419351101, -0.02764882706105709, -0.01987585611641407, -0.024036221206188202, -0.00800772663205862, 0.009194539859890938, -0.0025089355185627937, 0.012155050411820412, -0.021701721474528313, -0.0014264577766880393, 0.010961716994643211, -0.016693631187081337, 0.020397530868649483, 0.005950366612523794, 0.0509677454829216, 0.03101363778114319, -0.015154687687754631, -0.02218427136540413, -0.0020671412348747253, 0.007290421985089779, 0.0018649917328730226, 0.01535031571984291, 0.009083683602511883, 0.002878999337553978, -0.027466241270303726, 0.0014060798566788435, -0.00969013199210167, 0.0006777712260372937, -0.0318744033575058, 0.022979827597737312, -0.006344884168356657, 0.049454882740974426, 0.012363720685243607, -0.022171229124069214, -0.03756067156791687, 0.012089841067790985, 0.011829002760350704, 0.02897910214960575, -0.00610034866258502, -0.0026442452799528837, -0.011711626313626766, 0.032630834728479385, -0.026331596076488495, 0.0014158613048493862, 0.01110517792403698, 8.069675823207945e-05, 0.004903754219412804, -0.013772246427834034, -0.006028618197888136, 0.005353699903935194, -0.005343918688595295, 0.025588206946849823, 0.01815432496368885, -0.00035396532621234655, 0.0034463219344615936, 0.001261803787201643, 0.003452843055129051, -0.006165558006614447, 0.0014916673535481095, 0.020280154421925545, -0.007596906740218401, -0.032135240733623505, 0.021466966718435287, 0.013654869049787521, -0.004046249203383923, -0.02351454459130764, -0.01047916617244482, 0.004483153112232685, -0.03899528086185455, -0.004607051145285368, 0.009748820215463638, -0.007922953926026821, -0.013850498013198376, -0.01926288567483425, -0.0235667135566473, -0.0261229258030653, -0.0242057666182518, -0.020358406007289886, -0.022027768194675446, -0.005343918688595295, 0.007414320018142462, -0.02440139465034008, -0.0016872958512976766, 0.022784199565649033, -0.0007148591103032231, 0.01206375751644373, 0.016928385943174362, 0.019223760813474655, -0.028170503675937653, 0.000924344640225172, 0.020945291966199875, 0.03500445932149887, -0.004310348071157932, -0.0051874155178666115, -0.007988163270056248, -0.023553671315312386, -0.008992389775812626, 0.005327615886926651, -0.02976161614060402, -0.02540562115609646, -0.016419751569628716, -0.00710783526301384, 0.006041659973561764, -0.004519018344581127, 0.010831297375261784, 0.010270495899021626, 0.019054215401411057, -0.018036946654319763, -0.006723099388182163, 0.04011688381433487, 0.005001568701118231, 0.021219171583652496, 0.004434246104210615, 0.008020768873393536, 0.013759204186499119, -0.0082033546641469, 0.00842506717890501, -0.006276414263993502, -0.02631855383515358, -0.000391053210478276, -0.0014590625651180744, 0.022836366668343544, 0.021114835515618324, -0.02265378087759018, -0.01383745577186346, -0.009168455377221107, -0.023801466450095177, 0.005415648687630892, 0.01535031571984291, 0.00039737040060572326, 0.022340774536132812, -0.010413956828415394, -0.014046126045286655, 0.019471555948257446, -0.01604153774678707, -0.02098441682755947, -0.006742662284523249, 0.002965402090921998, -0.03231782838702202, -0.022979827597737312, -0.0015528012299910188, 0.031796153634786606, 0.025940338149666786, -0.02634463831782341, -0.011737709864974022, -0.016484960913658142, -0.03101363778114319, -0.011763793416321278, -0.00605796230956912, 0.026031631976366043, -0.004665739834308624, 0.0014631381491199136, -0.00946841947734356, 0.02159738540649414, 0.033413346856832504, 0.004629874601960182, 0.0064850845374166965, -0.002978443866595626, 0.003899527946487069, -0.002257878892123699, -0.005467816721647978, 0.015845907852053642, -0.018923796713352203, -0.007205649744719267, 0.02476656809449196, 0.03542179986834526, 0.0010743264574557543, 0.010355268605053425, 0.007309984881430864, -0.002282332396134734, 0.019093342125415802, 0.0007743628229945898, 0.01261803787201643, 0.021388715133070946, -0.022692905738949776, -0.03982996195554733, -0.022366859018802643, -0.01618499681353569, -0.01604153774678707, 0.012774541042745113, -0.028248755261301994, -0.0031512491405010223, 0.009859676472842693, -0.00234591169282794, -0.019328095018863678, 0.008998910896480083, -0.025223033502697945, -0.0445772148668766, -0.01879337802529335, 0.008464192971587181, -0.00914889294654131, 0.016263248398900032, 0.016106747090816498, -0.029135603457689285, 0.0011150824138894677, 0.006723099388182163, -0.019693268463015556, -0.00316429091617465, 0.028353089466691017, -0.02684023045003414, 0.01342011522501707, 0.0023915583733469248, -0.006543773226439953, -0.016276290640234947, -0.008379420265555382, -0.006524210330098867, -0.003284928621724248, -0.027779247611761093, 0.013028858229517937, 0.004610311705619097, -0.027779247611761093, -0.008783719502389431, 0.002989855594933033, 0.009598838165402412, 0.012591954320669174, -0.009279311634600163, 0.009533628821372986, -0.04282959923148155, -0.005076559726148844, -0.02095833234488964, -0.011366015300154686, -0.0340915247797966, 0.01662842184305191, 0.02046274021267891, 0.009729256853461266, 0.005467816721647978, 0.2029319554567337, -0.012950606644153595, -0.0019579152576625347, 0.024975238367915154, 0.02221035584807396, 0.008346815593540668, 0.027101067826151848, 0.0009259748621843755, 0.014763430692255497, 0.0016049687983468175, 0.026892397552728653, 0.006387270521372557, -0.015898076817393303, -0.007055667694658041, 0.001493297517299652, -0.009142371825873852, -0.03109188936650753, -0.0140200424939394, -0.013537491671741009, 0.005989492405205965, 0.013811372220516205, 0.0056536635383963585, 0.008301169611513615, -0.035160962492227554, 0.032604750245809555, -0.017984779551625252, -0.02673589438199997, 0.010987800545990467, 0.0037528066895902157, 0.019328095018863678, -0.017919570207595825, -0.007988163270056248, 0.03103972226381302, 0.004616832360625267, 0.005242843646556139, -0.003958216402679682, 0.0035571781918406487, 0.021336548030376434, 0.022588569670915604, 0.03552613407373428, 0.01424175500869751, -0.0024649191182106733, -0.00019033023272641003, -0.006152516230940819, -0.011209513060748577, 0.0029914858750998974, -0.005666705314069986, 0.01229851134121418, 0.0030811489559710026, 0.00037128658732399344, -0.01328317541629076, 0.008914138190448284, 0.02031927928328514, 0.019758477807044983, -0.0024127515498548746, 0.0017199005233123899, 0.01965414360165596, 0.012781062163412571, -0.0005881081451661885, -0.0003873851674143225, -0.0016938167391344905, 0.025392578914761543, 0.00964448507875204, 0.014711262658238411, -0.001059654401615262, 0.019341137260198593, -0.01287887617945671, -0.003227870212867856, 0.02159738540649414, 0.019171593710780144, -0.018584707751870155, -0.005268927663564682, -0.011600770056247711, -0.006553554907441139, -0.021519135683774948, -0.03161356598138809, 0.034248027950525284, 0.03328292816877365, 0.021310463547706604, 0.004929838236421347, 0.010753046721220016, -0.011287764646112919, 0.004209273029118776, -0.013889623805880547, 0.0014729195972904563, -0.044316377490758896, 0.011489913798868656, 0.0065111685544252396, -0.02051490917801857, 0.010348747484385967, 0.010674795135855675, 0.008444630540907383, -0.01815432496368885, -0.013250569812953472, -0.009416251443326473, -0.0010751415975391865, -0.008346815593540668, 0.013902665115892887, -0.0208800807595253, -0.03017895668745041, -0.03239607810974121, 0.04306435212492943, 0.01068783737719059, 0.006041659973561764, -0.022862451151013374, 0.021897349506616592, 0.011359495110809803, -0.004294045735150576, -0.0022709209006279707, -0.016224123537540436, -0.00732954777777195, -0.026970649138092995, 0.007231733296066523, -0.0018144543282687664, 0.02597946487367153, 0.007942517288029194, 0.007277380209416151, -0.03722158074378967, 0.026357678696513176, -0.009448856115341187, 0.028718262910842896, -0.03542179986834526, 0.00261653121560812, -0.011920296587049961, 0.008666342124342918, -0.022614654153585434, -0.0331525094807148, 0.027909666299819946, -0.015206854790449142, -0.014202629216015339, 0.00970317330211401, 0.006071004550904036, 0.01485472358763218, -0.016811009496450424, 0.0035734805278480053, 0.001909008133225143, 0.01342011522501707, -0.022366859018802643, 0.02029319666326046, -0.007694720756262541, 0.03158748149871826, 0.0030941907316446304, 0.00870546791702509, 0.01152251847088337, -0.016589296981692314, -0.023084163665771484, 0.046872589737176895, -0.014137419871985912, -0.030544130131602287, -0.03291775658726692, -0.017554396763443947, -0.01685013435781002, 0.0014598777052015066, -0.014776472933590412, 0.021662594750523567, -0.013087546452879906, -0.01718922331929207, -0.008333774283528328, -0.025914255529642105, 0.00492005655542016, -0.029892034828662872, -0.012363720685243607, 0.008979348465800285, -0.029892034828662872, -0.038682274520397186, 0.012441972270607948, -0.16495394706726074, -0.006247070152312517, 0.018780335783958435, -0.018362995237112045, 0.013270133174955845, 0.022392941638827324, 0.011392099782824516, 0.0037951928097754717, -0.010485687293112278, -0.010081388987600803, 0.014959058724343777, -0.02387971803545952, -0.04233400523662567, 0.02181909792125225, 0.01915855146944523, -0.0008363118395209312, -0.03276125341653824, 0.022392941638827324, -0.001848689280450344, 0.010837818495929241, -0.011196470819413662, -0.015245980583131313, 0.013446198776364326, -0.013863539323210716, 0.003452843055129051, -0.013211444951593876, -0.019510682672262192, 0.024518771097064018, 0.0012128966627642512, -0.010544376447796822, -0.0035506573040038347, -0.026214219629764557, 0.022053852677345276, 0.022197313606739044, 0.023005912080407143, -0.009448856115341187, -0.009337999857962132, 0.0071860868483781815, -0.0018389078322798014, 0.02715323492884636, -0.003270256333053112, 0.007473008707165718, -0.0018601010087877512, 0.01114430371671915, 0.0051874155178666115, 0.020840955898165703, 0.0036028248723596334, 0.013720078393816948, 0.01893683895468712, -0.014606927521526814, 0.013563576154410839, -0.018506456166505814, 0.015219897031784058, 0.004571185912936926, 0.03273516893386841, 0.02287549152970314, -0.012272427789866924, 0.019302012398838997, 0.01193985901772976, 0.014293922111392021, -0.029109520837664604, -0.02715323492884636, -0.033022090792655945, -0.0165762547403574, -0.011568165384232998, -0.0018470591166988015, 0.010094430297613144, 0.007727325893938541, -0.03101363778114319, 0.003430019598454237, -0.00221060193143785, -0.025223033502697945, 0.02251031994819641, -0.010694357566535473, 0.023084163665771484, -0.015245980583131313, -0.028327006846666336, 0.021923433989286423, -0.009442335925996304, -0.005546067841351032, -0.020827913656830788, 0.04961138591170311, -0.043872952461242676, -0.009494503028690815, -0.01447650883346796, -0.004016905091702938, -0.004385338630527258, -0.009748820215463638, 0.011431225575506687, -0.010642190463840961, -0.002993115922436118, -0.023253707215189934, 0.009077162481844425, 0.0037462858017534018, 0.011287764646112919, 0.028222670778632164, 0.006661150138825178, 0.012168092653155327, 0.01239632535725832, 0.018441246822476387, -0.024414436891674995, 0.0025496913585811853, -0.029474694281816483, -0.017163140699267387, 0.026527224108576775, 0.00637748884037137, 0.02481873519718647, 0.013087546452879906, 0.017945654690265656, -0.006938290782272816, -0.015650279819965363, -0.007244775537401438, 0.013707037083804607, 0.028744347393512726, -0.00896630622446537, 0.00178511010017246, -0.02007148414850235, -0.013524450361728668, 0.012148529291152954, 0.014750388450920582, 0.007616469636559486, -0.015676364302635193, 0.009735777974128723, -0.00047154619824141264, -0.010231370106339455, -0.006573117338120937, -0.08508535474538803, -0.04775943607091904, 0.020853998139500618, 0.004864628426730633, -0.0035995643120259047, -0.00015018563135527074, -0.0010580241214483976, 0.00029201628058217466, -0.017345726490020752, 0.025418663397431374, -0.004310348071157932, -0.031248392537236214, 0.0077729723416268826, -0.009409730322659016, 0.05748869478702545, -0.010531334206461906, -0.013367947190999985, -0.014606927521526814, -0.013654869049787521, 0.026501139625906944, -0.028248755261301994, -0.02093224972486496, -0.012220259755849838, 0.002327979076653719, -0.015663322061300278, 0.018206492066383362, -0.018910754472017288, 0.0157676562666893, 0.010231370106339455, -0.014320005662739277, 0.01840212009847164, -0.020697494968771935, 0.0010963346576318145, -0.00015741981042083353, -0.025770794600248337, 0.010074867866933346, 0.0025040446780622005, -0.00882936641573906, 0.006263372488319874, -0.023449335247278214, 0.017384853214025497, 0.0021160482428967953, -0.0005856628413312137, -0.011692062951624393, -0.020006274804472923, -0.03351768106222153, -0.010694357566535473, 0.011274722404778004, 0.02095833234488964, -0.0305962972342968, 0.00013928340922575444, -0.008588091470301151, -0.026357678696513176, -0.006227507255971432, 0.0029490995220839977, -0.03023112379014492, 0.013824413530528545, 0.016889261081814766, -0.01024441234767437, -0.02715323492884636, -0.015050352551043034, -0.001812824048101902, -0.00978794600814581, 0.013217965140938759, -0.0029556206427514553, -0.01938026398420334, -0.0038375789299607277, -0.012957127764821053, 0.022784199565649033, -0.0159372016787529, -0.013107109814882278, 0.006846997421234846, -0.014841682277619839, 0.030804967507719994, -0.009722736664116383, 0.0034398010466247797, -0.010844339616596699, -0.008353336714208126, 0.010087909176945686, -0.015232939273118973, -0.021284380927681923, -0.022366859018802643, 0.008901096880435944, -0.02034536376595497, -0.006357926409691572, 0.018662959337234497, 0.011705105192959309, 0.011998548172414303, 0.01120299194008112, -0.000867286347784102, 0.0034430616069585085, 0.023671047762036324, 0.0439772866666317, -0.016706673428416252, -0.0009895541006699204, -0.016863176599144936, 0.002989855594933033, 0.019615016877651215, -0.016889261081814766, 0.016002411022782326, -0.013511408120393753, -0.007414320018142462, -0.07465183734893799, 0.0310658048838377, -0.0013449459802359343, -0.023605838418006897, -0.00787078682333231, 0.0005176003905944526, 0.02307112142443657, -0.006286195944994688, 0.0012683247914537787, 0.011796398088335991, -0.014111335389316082, 0.01862383261322975, -0.014554760418832302, 0.008816324174404144, 0.0011680651223286986, -0.012676727026700974, 0.019028132781386375, 0.00309908133931458, 0.010759567841887474, 0.03565655276179314, -0.012911480851471424, -0.01729355938732624, 0.03930828720331192, 0.028353089466691017, -0.02501436322927475, 0.005757998675107956, 0.010622627101838589, 0.034326281398534775, 0.00788382813334465, 0.003739764681085944, 0.04449896141886711, -0.021532176062464714, 0.005497160833328962, 0.03962129354476929, 0.0088424077257514, -0.010413956828415394, 0.0016587666468694806, 0.003138207131996751, 0.020449699833989143, -0.016471918672323227, -0.022836366668343544, -0.04045597463846207, 0.012761498801410198, -0.014176544733345509, -0.027492325752973557, 0.010726962238550186, 0.00178511010017246, 0.017802193760871887, 0.010042263194918633, 0.009429293684661388, -0.008072935976088047, 0.005311313550919294, -0.0016970771830528975, -0.03552613407373428, -0.0021241994109004736, 0.008757635951042175, 0.002363844309002161, -0.004267961718142033, 0.011053009890019894, -0.021558260545134544, 0.040847230702638626, 0.012768019922077656, 0.016145871952176094, -0.016615379601716995, 0.024088388308882713, -0.006087306886911392, -0.0032588448375463486, 0.0017052283510565758, -0.008059893734753132, -0.030283290892839432, -0.026892397552728653, -0.0259533803910017, 0.02656635083258152, 0.016263248398900032, -0.012585433200001717, -0.010844339616596699, -0.00388974673114717, -0.005379783920943737, -0.023188497871160507, 0.014502592384815216, 0.010811734944581985, 0.009227144531905651, -0.01568940468132496, 0.0015723640099167824, 0.017671775072813034, 0.03278733789920807, -0.02354062907397747, -0.007173045072704554, 0.015871992334723473, 0.00473420973867178, -0.019145509228110313, 0.019419388845562935, 0.009755341336131096, 0.005748217459768057, 0.01060306467115879, 0.007538218051195145, -0.004326650407165289, 0.001770437927916646, 0.000693258480168879, 0.024583980441093445, 0.0032295004930347204, 0.018584707751870155, 0.006012315861880779, -0.031248392537236214, -0.016589296981692314, -0.00482224253937602, -0.006964374333620071, -0.016758840531110764, -0.04027338698506355, 0.007394757121801376, 0.006048181094229221, -0.015011226758360863, 0.009090203791856766, 0.008803282864391804, -0.00029018227360211313, 0.019132466986775398, -0.007023063022643328, -0.010511770844459534, -0.04371644929051399, 0.04089939966797829, 0.0101205138489604, 0.027935748919844627, 0.006537252105772495, -0.016719715669751167, 0.03526529669761658, -0.003932132851332426, 0.0016180106904357672, -0.01804998889565468, 0.006410093978047371, -0.0006251960876397789, 0.022327732294797897, -0.022197313606739044, -0.01264412235468626, -0.01188117079436779, -0.011066052131354809, -0.004629874601960182, 0.004437506198883057, 0.017423978075385094, 0.02137567475438118, 0.08049460500478745, 0.024583980441093445, -0.0058981990441679955, 0.0051645925268530846, -0.009885760024189949, 0.03234391286969185, 0.02204081043601036, 0.009970532730221748, -0.005963408853858709, -0.014359131455421448, 0.023840593174099922, -0.020801831036806107, 0.0010751415975391865, -0.010074867866933346, -0.034691452980041504, 0.0020997459068894386, 0.02004539966583252, 0.0029914858750998974, 0.013980916701257229, 0.004564664792269468, 0.010929112322628498, -0.0003676185442600399, 0.008770677261054516, -0.008125104010105133, -0.023775383830070496, 0.004972224123775959, 0.025249117985367775, 0.013139714486896992, -0.00710783526301384, -0.021662594750523567, 0.011359495110809803, -0.0064850845374166965, -0.033830687403678894, -0.005575412418693304, 0.004646176937967539, 0.00334850768558681, -0.013680952601134777, 0.012441972270607948, 0.018832502886652946, 0.014711262658238411, 0.0062535908073186874, 0.02654026634991169, -0.021388715133070946, -0.026892397552728653, 0.009514066390693188, -0.01292452309280634, 0.014515634626150131, -0.0152981486171484, -0.024140557274222374]'"
      ]
     },
     "execution_count": 83,
     "metadata": {},
     "output_type": "execute_result"
    }
   ],
   "source": [
    "df_embedded[\"embedding\"][0]"
   ]
  },
  {
   "cell_type": "code",
   "execution_count": 179,
   "metadata": {},
   "outputs": [],
   "source": [
    "import ast\n",
    "\n",
    "# 将字符串转换为向量\n",
    "df_embedded[\"embedding_vec\"] = df_embedded[\"embedding\"].apply(ast.literal_eval)"
   ]
  },
  {
   "cell_type": "code",
   "execution_count": 133,
   "metadata": {},
   "outputs": [
    {
     "data": {
      "text/plain": [
       "1536"
      ]
     },
     "execution_count": 133,
     "metadata": {},
     "output_type": "execute_result"
    }
   ],
   "source": [
    "len(df_embedded[\"embedding_vec\"][0])"
   ]
  },
  {
   "cell_type": "code",
   "execution_count": 209,
   "metadata": {},
   "outputs": [
    {
     "data": {
      "text/html": [
       "<div>\n",
       "<style scoped>\n",
       "    .dataframe tbody tr th:only-of-type {\n",
       "        vertical-align: middle;\n",
       "    }\n",
       "\n",
       "    .dataframe tbody tr th {\n",
       "        vertical-align: top;\n",
       "    }\n",
       "\n",
       "    .dataframe thead th {\n",
       "        text-align: right;\n",
       "    }\n",
       "</style>\n",
       "<table border=\"1\" class=\"dataframe\">\n",
       "  <thead>\n",
       "    <tr style=\"text-align: right;\">\n",
       "      <th></th>\n",
       "      <th>Model Year</th>\n",
       "      <th>Make</th>\n",
       "      <th>Model</th>\n",
       "      <th>Electric Vehicle Type</th>\n",
       "      <th>Clean Alternative Fuel Vehicle (CAFV) Eligibility</th>\n",
       "      <th>Electric Range</th>\n",
       "      <th>State</th>\n",
       "      <th>combined</th>\n",
       "      <th>n_tokens</th>\n",
       "      <th>embedding</th>\n",
       "      <th>embedding_vec</th>\n",
       "      <th>Cluster</th>\n",
       "      <th>similarity</th>\n",
       "    </tr>\n",
       "    <tr>\n",
       "      <th>VIN (1-10)</th>\n",
       "      <th></th>\n",
       "      <th></th>\n",
       "      <th></th>\n",
       "      <th></th>\n",
       "      <th></th>\n",
       "      <th></th>\n",
       "      <th></th>\n",
       "      <th></th>\n",
       "      <th></th>\n",
       "      <th></th>\n",
       "      <th></th>\n",
       "      <th></th>\n",
       "      <th></th>\n",
       "    </tr>\n",
       "  </thead>\n",
       "  <tbody>\n",
       "    <tr>\n",
       "      <th>1W9WL21BXA</th>\n",
       "      <td>2010</td>\n",
       "      <td>WHEEGO ELECTRIC CARS</td>\n",
       "      <td>WHEEGO</td>\n",
       "      <td>Plug-in Hybrid Electric Vehicle (PHEV)</td>\n",
       "      <td>Clean Alternative Fuel Vehicle Eligible</td>\n",
       "      <td>100</td>\n",
       "      <td>WA</td>\n",
       "      <td>Model: WHEEGO; EV Type: Plug-in Hybrid Electri...</td>\n",
       "      <td>33</td>\n",
       "      <td>[0.027527090162038803, -0.016709953546524048, ...</td>\n",
       "      <td>[0.027527090162038803, -0.016709953546524048, ...</td>\n",
       "      <td>0</td>\n",
       "      <td>0.836176</td>\n",
       "    </tr>\n",
       "    <tr>\n",
       "      <th>1W9WL21B6A</th>\n",
       "      <td>2010</td>\n",
       "      <td>WHEEGO ELECTRIC CARS</td>\n",
       "      <td>WHEEGO</td>\n",
       "      <td>Plug-in Hybrid Electric Vehicle (PHEV)</td>\n",
       "      <td>Clean Alternative Fuel Vehicle Eligible</td>\n",
       "      <td>100</td>\n",
       "      <td>WA</td>\n",
       "      <td>Model: WHEEGO; EV Type: Plug-in Hybrid Electri...</td>\n",
       "      <td>33</td>\n",
       "      <td>[0.027527090162038803, -0.016709953546524048, ...</td>\n",
       "      <td>[0.027527090162038803, -0.016709953546524048, ...</td>\n",
       "      <td>0</td>\n",
       "      <td>0.836176</td>\n",
       "    </tr>\n",
       "    <tr>\n",
       "      <th>1W9WL21B6A</th>\n",
       "      <td>2010</td>\n",
       "      <td>WHEEGO ELECTRIC CARS</td>\n",
       "      <td>WHEEGO</td>\n",
       "      <td>Plug-in Hybrid Electric Vehicle (PHEV)</td>\n",
       "      <td>Clean Alternative Fuel Vehicle Eligible</td>\n",
       "      <td>100</td>\n",
       "      <td>WA</td>\n",
       "      <td>Model: WHEEGO; EV Type: Plug-in Hybrid Electri...</td>\n",
       "      <td>33</td>\n",
       "      <td>[0.027527090162038803, -0.016709953546524048, ...</td>\n",
       "      <td>[0.027527090162038803, -0.016709953546524048, ...</td>\n",
       "      <td>0</td>\n",
       "      <td>0.836176</td>\n",
       "    </tr>\n",
       "    <tr>\n",
       "      <th>YV4BR0CZ5N</th>\n",
       "      <td>2022</td>\n",
       "      <td>VOLVO</td>\n",
       "      <td>XC90</td>\n",
       "      <td>Plug-in Hybrid Electric Vehicle (PHEV)</td>\n",
       "      <td>Not eligible due to low battery range</td>\n",
       "      <td>18</td>\n",
       "      <td>GA</td>\n",
       "      <td>Model: XC90; EV Type: Plug-in Hybrid Electric ...</td>\n",
       "      <td>32</td>\n",
       "      <td>[0.015543443150818348, -0.020742183551192284, ...</td>\n",
       "      <td>[0.015543443150818348, -0.020742183551192284, ...</td>\n",
       "      <td>0</td>\n",
       "      <td>0.745533</td>\n",
       "    </tr>\n",
       "    <tr>\n",
       "      <th>7JRBR0FL1N</th>\n",
       "      <td>2022</td>\n",
       "      <td>VOLVO</td>\n",
       "      <td>S60</td>\n",
       "      <td>Plug-in Hybrid Electric Vehicle (PHEV)</td>\n",
       "      <td>Not eligible due to low battery range</td>\n",
       "      <td>22</td>\n",
       "      <td>MT</td>\n",
       "      <td>Model: S60; EV Type: Plug-in Hybrid Electric V...</td>\n",
       "      <td>32</td>\n",
       "      <td>[0.01142300944775343, -0.010459070093929768, 0...</td>\n",
       "      <td>[0.01142300944775343, -0.010459070093929768, 0...</td>\n",
       "      <td>0</td>\n",
       "      <td>0.742270</td>\n",
       "    </tr>\n",
       "    <tr>\n",
       "      <th>...</th>\n",
       "      <td>...</td>\n",
       "      <td>...</td>\n",
       "      <td>...</td>\n",
       "      <td>...</td>\n",
       "      <td>...</td>\n",
       "      <td>...</td>\n",
       "      <td>...</td>\n",
       "      <td>...</td>\n",
       "      <td>...</td>\n",
       "      <td>...</td>\n",
       "      <td>...</td>\n",
       "      <td>...</td>\n",
       "      <td>...</td>\n",
       "    </tr>\n",
       "    <tr>\n",
       "      <th>5YJSA1S21F</th>\n",
       "      <td>2015</td>\n",
       "      <td>TESLA</td>\n",
       "      <td>MODEL S</td>\n",
       "      <td>Battery Electric Vehicle (BEV)</td>\n",
       "      <td>Clean Alternative Fuel Vehicle Eligible</td>\n",
       "      <td>208</td>\n",
       "      <td>AZ</td>\n",
       "      <td>Model: MODEL S; EV Type: Battery Electric Vehi...</td>\n",
       "      <td>28</td>\n",
       "      <td>[0.010144701227545738, -0.0040008206851780415,...</td>\n",
       "      <td>[0.010144701227545738, -0.0040008206851780415,...</td>\n",
       "      <td>1</td>\n",
       "      <td>0.736950</td>\n",
       "    </tr>\n",
       "    <tr>\n",
       "      <th>5YJSA1H16E</th>\n",
       "      <td>2014</td>\n",
       "      <td>TESLA</td>\n",
       "      <td>MODEL S</td>\n",
       "      <td>Battery Electric Vehicle (BEV)</td>\n",
       "      <td>Clean Alternative Fuel Vehicle Eligible</td>\n",
       "      <td>208</td>\n",
       "      <td>CA</td>\n",
       "      <td>Model: MODEL S; EV Type: Battery Electric Vehi...</td>\n",
       "      <td>28</td>\n",
       "      <td>[0.010144701227545738, -0.0040008206851780415,...</td>\n",
       "      <td>[0.010144701227545738, -0.0040008206851780415,...</td>\n",
       "      <td>1</td>\n",
       "      <td>0.736950</td>\n",
       "    </tr>\n",
       "    <tr>\n",
       "      <th>5YJSA1CG3D</th>\n",
       "      <td>2013</td>\n",
       "      <td>TESLA</td>\n",
       "      <td>MODEL S</td>\n",
       "      <td>Battery Electric Vehicle (BEV)</td>\n",
       "      <td>Clean Alternative Fuel Vehicle Eligible</td>\n",
       "      <td>208</td>\n",
       "      <td>CA</td>\n",
       "      <td>Model: MODEL S; EV Type: Battery Electric Vehi...</td>\n",
       "      <td>28</td>\n",
       "      <td>[0.010144701227545738, -0.0040008206851780415,...</td>\n",
       "      <td>[0.010144701227545738, -0.0040008206851780415,...</td>\n",
       "      <td>1</td>\n",
       "      <td>0.736950</td>\n",
       "    </tr>\n",
       "    <tr>\n",
       "      <th>5YJRE1A1XA</th>\n",
       "      <td>2010</td>\n",
       "      <td>TESLA</td>\n",
       "      <td>ROADSTER</td>\n",
       "      <td>Battery Electric Vehicle (BEV)</td>\n",
       "      <td>Clean Alternative Fuel Vehicle Eligible</td>\n",
       "      <td>245</td>\n",
       "      <td>WA</td>\n",
       "      <td>Model: ROADSTER; EV Type: Battery Electric Veh...</td>\n",
       "      <td>28</td>\n",
       "      <td>[0.0029667529743164778, -0.0026563548017293215...</td>\n",
       "      <td>[0.0029667529743164778, -0.0026563548017293215...</td>\n",
       "      <td>1</td>\n",
       "      <td>0.757257</td>\n",
       "    </tr>\n",
       "    <tr>\n",
       "      <th>5YJRE1A16A</th>\n",
       "      <td>2010</td>\n",
       "      <td>TESLA</td>\n",
       "      <td>ROADSTER</td>\n",
       "      <td>Battery Electric Vehicle (BEV)</td>\n",
       "      <td>Clean Alternative Fuel Vehicle Eligible</td>\n",
       "      <td>245</td>\n",
       "      <td>WA</td>\n",
       "      <td>Model: ROADSTER; EV Type: Battery Electric Veh...</td>\n",
       "      <td>28</td>\n",
       "      <td>[0.0029667529743164778, -0.0026563548017293215...</td>\n",
       "      <td>[0.0029667529743164778, -0.0026563548017293215...</td>\n",
       "      <td>1</td>\n",
       "      <td>0.757257</td>\n",
       "    </tr>\n",
       "  </tbody>\n",
       "</table>\n",
       "<p>200 rows × 13 columns</p>\n",
       "</div>"
      ],
      "text/plain": [
       "            Model Year                  Make     Model  \\\n",
       "VIN (1-10)                                               \n",
       "1W9WL21BXA        2010  WHEEGO ELECTRIC CARS    WHEEGO   \n",
       "1W9WL21B6A        2010  WHEEGO ELECTRIC CARS    WHEEGO   \n",
       "1W9WL21B6A        2010  WHEEGO ELECTRIC CARS    WHEEGO   \n",
       "YV4BR0CZ5N        2022                 VOLVO      XC90   \n",
       "7JRBR0FL1N        2022                 VOLVO       S60   \n",
       "...                ...                   ...       ...   \n",
       "5YJSA1S21F        2015                 TESLA   MODEL S   \n",
       "5YJSA1H16E        2014                 TESLA   MODEL S   \n",
       "5YJSA1CG3D        2013                 TESLA   MODEL S   \n",
       "5YJRE1A1XA        2010                 TESLA  ROADSTER   \n",
       "5YJRE1A16A        2010                 TESLA  ROADSTER   \n",
       "\n",
       "                             Electric Vehicle Type  \\\n",
       "VIN (1-10)                                           \n",
       "1W9WL21BXA  Plug-in Hybrid Electric Vehicle (PHEV)   \n",
       "1W9WL21B6A  Plug-in Hybrid Electric Vehicle (PHEV)   \n",
       "1W9WL21B6A  Plug-in Hybrid Electric Vehicle (PHEV)   \n",
       "YV4BR0CZ5N  Plug-in Hybrid Electric Vehicle (PHEV)   \n",
       "7JRBR0FL1N  Plug-in Hybrid Electric Vehicle (PHEV)   \n",
       "...                                            ...   \n",
       "5YJSA1S21F          Battery Electric Vehicle (BEV)   \n",
       "5YJSA1H16E          Battery Electric Vehicle (BEV)   \n",
       "5YJSA1CG3D          Battery Electric Vehicle (BEV)   \n",
       "5YJRE1A1XA          Battery Electric Vehicle (BEV)   \n",
       "5YJRE1A16A          Battery Electric Vehicle (BEV)   \n",
       "\n",
       "           Clean Alternative Fuel Vehicle (CAFV) Eligibility  Electric Range  \\\n",
       "VIN (1-10)                                                                     \n",
       "1W9WL21BXA           Clean Alternative Fuel Vehicle Eligible             100   \n",
       "1W9WL21B6A           Clean Alternative Fuel Vehicle Eligible             100   \n",
       "1W9WL21B6A           Clean Alternative Fuel Vehicle Eligible             100   \n",
       "YV4BR0CZ5N             Not eligible due to low battery range              18   \n",
       "7JRBR0FL1N             Not eligible due to low battery range              22   \n",
       "...                                                      ...             ...   \n",
       "5YJSA1S21F           Clean Alternative Fuel Vehicle Eligible             208   \n",
       "5YJSA1H16E           Clean Alternative Fuel Vehicle Eligible             208   \n",
       "5YJSA1CG3D           Clean Alternative Fuel Vehicle Eligible             208   \n",
       "5YJRE1A1XA           Clean Alternative Fuel Vehicle Eligible             245   \n",
       "5YJRE1A16A           Clean Alternative Fuel Vehicle Eligible             245   \n",
       "\n",
       "           State                                           combined  n_tokens  \\\n",
       "VIN (1-10)                                                                      \n",
       "1W9WL21BXA    WA  Model: WHEEGO; EV Type: Plug-in Hybrid Electri...        33   \n",
       "1W9WL21B6A    WA  Model: WHEEGO; EV Type: Plug-in Hybrid Electri...        33   \n",
       "1W9WL21B6A    WA  Model: WHEEGO; EV Type: Plug-in Hybrid Electri...        33   \n",
       "YV4BR0CZ5N    GA  Model: XC90; EV Type: Plug-in Hybrid Electric ...        32   \n",
       "7JRBR0FL1N    MT  Model: S60; EV Type: Plug-in Hybrid Electric V...        32   \n",
       "...          ...                                                ...       ...   \n",
       "5YJSA1S21F    AZ  Model: MODEL S; EV Type: Battery Electric Vehi...        28   \n",
       "5YJSA1H16E    CA  Model: MODEL S; EV Type: Battery Electric Vehi...        28   \n",
       "5YJSA1CG3D    CA  Model: MODEL S; EV Type: Battery Electric Vehi...        28   \n",
       "5YJRE1A1XA    WA  Model: ROADSTER; EV Type: Battery Electric Veh...        28   \n",
       "5YJRE1A16A    WA  Model: ROADSTER; EV Type: Battery Electric Veh...        28   \n",
       "\n",
       "                                                    embedding  \\\n",
       "VIN (1-10)                                                      \n",
       "1W9WL21BXA  [0.027527090162038803, -0.016709953546524048, ...   \n",
       "1W9WL21B6A  [0.027527090162038803, -0.016709953546524048, ...   \n",
       "1W9WL21B6A  [0.027527090162038803, -0.016709953546524048, ...   \n",
       "YV4BR0CZ5N  [0.015543443150818348, -0.020742183551192284, ...   \n",
       "7JRBR0FL1N  [0.01142300944775343, -0.010459070093929768, 0...   \n",
       "...                                                       ...   \n",
       "5YJSA1S21F  [0.010144701227545738, -0.0040008206851780415,...   \n",
       "5YJSA1H16E  [0.010144701227545738, -0.0040008206851780415,...   \n",
       "5YJSA1CG3D  [0.010144701227545738, -0.0040008206851780415,...   \n",
       "5YJRE1A1XA  [0.0029667529743164778, -0.0026563548017293215...   \n",
       "5YJRE1A16A  [0.0029667529743164778, -0.0026563548017293215...   \n",
       "\n",
       "                                                embedding_vec  Cluster  \\\n",
       "VIN (1-10)                                                               \n",
       "1W9WL21BXA  [0.027527090162038803, -0.016709953546524048, ...        0   \n",
       "1W9WL21B6A  [0.027527090162038803, -0.016709953546524048, ...        0   \n",
       "1W9WL21B6A  [0.027527090162038803, -0.016709953546524048, ...        0   \n",
       "YV4BR0CZ5N  [0.015543443150818348, -0.020742183551192284, ...        0   \n",
       "7JRBR0FL1N  [0.01142300944775343, -0.010459070093929768, 0...        0   \n",
       "...                                                       ...      ...   \n",
       "5YJSA1S21F  [0.010144701227545738, -0.0040008206851780415,...        1   \n",
       "5YJSA1H16E  [0.010144701227545738, -0.0040008206851780415,...        1   \n",
       "5YJSA1CG3D  [0.010144701227545738, -0.0040008206851780415,...        1   \n",
       "5YJRE1A1XA  [0.0029667529743164778, -0.0026563548017293215...        1   \n",
       "5YJRE1A16A  [0.0029667529743164778, -0.0026563548017293215...        1   \n",
       "\n",
       "            similarity  \n",
       "VIN (1-10)              \n",
       "1W9WL21BXA    0.836176  \n",
       "1W9WL21B6A    0.836176  \n",
       "1W9WL21B6A    0.836176  \n",
       "YV4BR0CZ5N    0.745533  \n",
       "7JRBR0FL1N    0.742270  \n",
       "...                ...  \n",
       "5YJSA1S21F    0.736950  \n",
       "5YJSA1H16E    0.736950  \n",
       "5YJSA1CG3D    0.736950  \n",
       "5YJRE1A1XA    0.757257  \n",
       "5YJRE1A16A    0.757257  \n",
       "\n",
       "[200 rows x 13 columns]"
      ]
     },
     "execution_count": 209,
     "metadata": {},
     "output_type": "execute_result"
    }
   ],
   "source": [
    "df_embedded.head(200)"
   ]
  },
  {
   "cell_type": "code",
   "execution_count": null,
   "metadata": {},
   "outputs": [],
   "source": []
  },
  {
   "cell_type": "markdown",
   "metadata": {},
   "source": [
    "## 3. 使用 t-SNE 可视化 1536 维 Embedding 美食评论"
   ]
  },
  {
   "cell_type": "code",
   "execution_count": 181,
   "metadata": {},
   "outputs": [],
   "source": [
    "# 导入 NumPy 包，NumPy 是 Python 的一个开源数值计算扩展。这种工具可用来存储和处理大型矩阵，\n",
    "# 比 Python 自身的嵌套列表（nested list structure)结构要高效的多。\n",
    "import numpy as np\n",
    "# 从 matplotlib 包中导入 pyplot 子库，并将其别名设置为 plt。\n",
    "# matplotlib 是一个 Python 的 2D 绘图库，pyplot 是其子库，提供了一种类似 MATLAB 的绘图框架。\n",
    "import matplotlib.pyplot as plt\n",
    "import matplotlib\n",
    "\n",
    "# 从 sklearn.manifold 模块中导入 TSNE 类。\n",
    "# TSNE (t-Distributed Stochastic Neighbor Embedding) 是一种用于数据可视化的降维方法，尤其擅长处理高维数据的可视化。\n",
    "# 它可以将高维度的数据映射到 2D 或 3D 的空间中，以便我们可以直观地观察和理解数据的结构。\n",
    "from sklearn.manifold import TSNE"
   ]
  },
  {
   "cell_type": "code",
   "execution_count": 136,
   "metadata": {},
   "outputs": [
    {
     "data": {
      "text/plain": [
       "pandas.core.series.Series"
      ]
     },
     "execution_count": 136,
     "metadata": {},
     "output_type": "execute_result"
    }
   ],
   "source": [
    "type(df_embedded[\"embedding_vec\"])"
   ]
  },
  {
   "cell_type": "code",
   "execution_count": 182,
   "metadata": {},
   "outputs": [],
   "source": [
    "# 首先，确保你的嵌入向量都是等长的\n",
    "assert df_embedded['embedding_vec'].apply(len).nunique() == 1"
   ]
  },
  {
   "cell_type": "code",
   "execution_count": 183,
   "metadata": {},
   "outputs": [],
   "source": [
    "# 将嵌入向量列表转换为二维 numpy 数组\n",
    "matrix = np.vstack(df_embedded['embedding_vec'].values)"
   ]
  },
  {
   "cell_type": "code",
   "execution_count": 184,
   "metadata": {},
   "outputs": [],
   "source": [
    "# 创建一个 t-SNE 模型，t-SNE 是一种非线性降维方法，常用于高维数据的可视化。\n",
    "# n_components 表示降维后的维度（在这里是2D）\n",
    "# perplexity 可以被理解为近邻的数量\n",
    "# random_state 是随机数生成器的种子\n",
    "# init 设置初始化方式\n",
    "# learning_rate 是学习率。\n",
    "tsne = TSNE(n_components=2, perplexity=15, random_state=42, init='random', learning_rate=200)"
   ]
  },
  {
   "cell_type": "code",
   "execution_count": 185,
   "metadata": {},
   "outputs": [],
   "source": [
    "# 使用 t-SNE 对数据进行降维，得到每个数据点在新的2D空间中的坐标\n",
    "vis_dims = tsne.fit_transform(matrix)"
   ]
  },
  {
   "cell_type": "code",
   "execution_count": 186,
   "metadata": {},
   "outputs": [],
   "source": [
    "# 定义了五种不同的颜色，用于在可视化中表示不同的等级\n",
    "colors = [\"red\", \"darkorange\", \"gold\", \"turquoise\", \"darkgreen\"]"
   ]
  },
  {
   "cell_type": "code",
   "execution_count": 187,
   "metadata": {},
   "outputs": [],
   "source": [
    "# 从降维后的坐标中分别获取所有数据点的横坐标和纵坐标\n",
    "x = [x for x,y in vis_dims]\n",
    "y = [y for x,y in vis_dims]\n",
    "\n",
    "# 根据数据点的评分（减1是因为评分是从1开始的，而颜色索引是从0开始的）获取对应的颜色索引\n",
    "color_indices = df_embedded[\"Electric Range\"].values\n",
    "\n",
    "# 确保你的数据点和颜色索引的数量匹配\n",
    "assert len(vis_dims) == len(df_embedded[\"Electric Range\"].values)"
   ]
  },
  {
   "cell_type": "code",
   "execution_count": 214,
   "metadata": {},
   "outputs": [
    {
     "data": {
      "text/plain": [
       "array([0, 0, 0, 0, 0, 0, 0, 0, 0, 3, 3, 3, 3, 3, 3, 3, 1, 0, 0, 0, 0, 0,\n",
       "       0, 0, 0, 0, 0, 0, 0, 0, 0, 0, 0, 0, 0, 0, 0, 0, 0, 1, 0, 0, 1, 1,\n",
       "       1, 3, 3, 3, 3, 3, 3, 3, 3, 3, 3, 3, 3, 3, 3, 3, 3, 3, 3, 3, 3, 3,\n",
       "       3, 3, 3, 3, 3, 3, 3, 3, 3, 3, 3, 3, 3, 3, 3, 3, 3, 3, 3, 3, 3, 3,\n",
       "       3, 3, 3, 3, 3, 3, 3, 3, 3, 3, 3, 3, 3, 3, 3, 3, 3, 3, 3, 3, 3, 3,\n",
       "       3, 3, 3, 3, 3, 3, 3, 3, 3, 3, 3, 3, 3, 3, 3, 1, 1, 1, 1, 1, 1, 1,\n",
       "       1, 1, 1, 1, 1, 1, 1, 1, 1, 1, 1, 1, 1, 1, 1, 1, 1, 1, 1, 1, 1, 1,\n",
       "       1, 1, 1, 1, 1, 1, 1, 1, 1, 1, 1, 1, 1, 1, 1, 1, 1, 1, 1, 1, 1, 1,\n",
       "       1, 1, 1, 1, 1, 1, 1, 1, 1, 1, 1, 1, 1, 1, 1, 1, 1, 1, 1, 1, 1, 1,\n",
       "       1, 1, 1, 1, 1, 1, 1, 1, 1, 1, 1, 1, 1, 1, 1, 1, 1, 1, 1, 1, 1, 1,\n",
       "       1, 1, 1, 1, 1, 1, 1, 1, 1, 1, 1, 1, 1, 1, 1, 1, 1, 1, 0, 3, 1, 3,\n",
       "       3, 2, 2, 2, 2, 2, 2, 2, 2, 2, 2, 2, 2, 2, 2, 2, 2, 2, 2, 2, 2, 2,\n",
       "       2, 2, 2, 2, 2, 2, 2, 2, 2, 2, 2, 2, 2, 2, 2, 2, 2, 2, 2, 2, 2, 2,\n",
       "       2, 2, 2, 2, 2, 2, 2, 2, 2, 2, 2, 2, 2, 2, 2, 2, 2, 2, 2, 2, 2, 2,\n",
       "       2, 2, 2, 2, 2, 2, 2, 2, 2, 2, 2, 2, 2, 2, 2, 2, 2, 2, 2, 2, 2, 2,\n",
       "       2, 2, 2, 2, 2, 2, 2, 2, 2, 2, 2, 2, 2, 2, 2, 2, 2, 2, 2, 2, 2, 2,\n",
       "       2, 2, 2, 2, 2, 2, 2, 2, 2, 2, 2, 2, 2, 2, 2, 2, 2, 2, 2, 2, 2, 2,\n",
       "       2, 2, 2, 2, 2, 2, 2, 2, 2, 2, 2, 2, 2, 2, 2, 2, 2, 2, 2, 2, 2, 2,\n",
       "       2, 2, 2, 2, 2, 2, 2, 2, 2, 2, 2, 2, 2, 2, 2, 2, 2, 2, 2, 2, 2, 2,\n",
       "       2, 2, 2, 2, 2, 2, 2, 2, 2, 2, 2, 2, 2, 2, 2, 2, 2, 2, 2, 2, 2, 2,\n",
       "       2, 2, 2, 2, 2, 2, 2, 2, 2, 2, 2, 2, 2, 2, 2, 2, 2, 2, 2, 2, 2, 2,\n",
       "       2, 2, 2, 2, 2, 2, 2, 2, 2, 2, 2, 2, 2, 2, 2, 2, 2, 2, 2, 2, 2, 2,\n",
       "       2, 2, 2, 2, 2, 2, 2, 2, 2, 2, 2, 2, 2, 2, 2, 2, 2, 2, 2, 2, 2, 2,\n",
       "       2, 2, 2, 2, 2, 2, 2, 2, 2, 2, 2, 2, 2, 2, 2, 2, 2, 2, 2, 2, 2, 2,\n",
       "       2, 2, 2, 2, 2, 2, 2, 2, 2, 2, 2, 2, 2, 2, 2, 2, 2, 2, 2, 2, 2, 2,\n",
       "       2, 2, 2, 2, 2, 2, 2, 2, 2, 2, 2, 2, 2, 2, 2, 2, 2, 2, 2, 2, 2, 2,\n",
       "       2, 2, 2, 2, 2, 2, 2, 2, 2, 2, 2, 2, 2, 2, 2, 2, 2, 2, 2, 2, 2, 2,\n",
       "       2, 2, 2, 2, 2, 2, 2, 2, 2, 2, 2, 2, 2, 2, 2, 2, 2, 2, 2, 2, 2, 2,\n",
       "       2, 2, 2, 2, 2, 2, 2, 2, 2, 2, 2, 2, 2, 2, 2, 2, 2, 2, 2, 2, 2, 2,\n",
       "       2, 2, 2, 2, 2, 2, 2, 2, 2, 2, 2, 2, 2, 2, 2, 2, 2, 2, 2, 2, 2, 2,\n",
       "       2, 2, 2, 2, 2, 2, 2, 2, 2, 2, 2, 2, 2, 2, 2, 2, 2, 2, 2, 2, 2, 2,\n",
       "       2, 2, 2, 2, 2, 2, 2, 2, 2, 2, 2, 2, 2, 2, 2, 2, 2, 2, 2, 2, 2, 2,\n",
       "       2, 2, 2, 2, 2, 2, 2, 2, 2, 2, 2, 2, 2, 2, 2, 2, 2, 2, 2, 2, 2, 2,\n",
       "       2, 2, 2, 2, 2, 2, 2, 2, 2, 2, 2, 2, 2, 2, 2, 2, 2, 2, 2, 2, 2, 2,\n",
       "       2, 2, 2, 2, 2, 2, 2, 2, 2, 2, 2, 2, 2, 2, 2, 2, 2, 2, 2, 2, 2, 2,\n",
       "       2, 2, 2, 2, 2, 2, 2, 2, 2, 2, 2, 2, 2, 2, 2, 2, 2, 2, 2, 2, 2, 2,\n",
       "       2, 2, 2, 2, 2, 2, 2, 2, 0, 0, 0, 3, 0, 3, 3, 0, 0, 1, 0, 0, 0, 0,\n",
       "       0, 0, 0, 0, 3, 3, 0, 3, 0, 0, 0, 3, 3, 3, 3, 3, 0, 1, 0, 0, 0, 0,\n",
       "       0, 0, 0, 0, 0, 0, 0, 0, 0, 0, 0, 1, 1, 1, 1, 1, 1, 1, 1, 1, 1, 1,\n",
       "       1, 1, 1, 0, 0, 0, 0, 0, 0, 0, 0, 0, 0, 0, 0, 0, 0, 0, 0, 3, 3, 3,\n",
       "       1, 1, 0, 0, 0, 0, 0, 0, 0, 0, 0, 0, 0, 1, 0, 0, 0, 0, 0, 0, 0, 0,\n",
       "       0, 0, 0, 0, 0, 0, 0, 0, 0, 0, 0, 0, 0, 0, 0, 0, 0, 0, 0, 0, 0, 0,\n",
       "       0, 0, 0, 0, 0, 0, 0, 0, 0, 0, 0, 0, 0, 0, 0, 0, 0, 0, 0, 0, 0, 0,\n",
       "       0, 0, 0, 0, 0, 0, 0, 0, 0, 0, 0, 0, 0, 0, 0, 0, 0, 0, 0, 0, 0, 0,\n",
       "       0, 0, 0, 0, 0, 1, 3, 3, 0, 3, 0, 0, 0, 0, 0, 0, 0, 0, 0, 0, 1, 1,\n",
       "       1, 1, 1, 3, 3, 3, 3, 1, 0, 0], dtype=int32)"
      ]
     },
     "execution_count": 214,
     "metadata": {},
     "output_type": "execute_result"
    }
   ],
   "source": [
    "color_indices"
   ]
  },
  {
   "cell_type": "code",
   "execution_count": 188,
   "metadata": {},
   "outputs": [
    {
     "data": {
      "text/plain": [
       "Text(0.5, 1.0, 'Amazon ratings visualized in language using t-SNE')"
      ]
     },
     "execution_count": 188,
     "metadata": {},
     "output_type": "execute_result"
    },
    {
     "data": {
      "image/png": "[encoded data removed]",
      "text/plain": [
       "<Figure size 640x480 with 1 Axes>"
      ]
     },
     "metadata": {},
     "output_type": "display_data"
    }
   ],
   "source": [
    "# 创建一个基于预定义颜色的颜色映射对象\n",
    "colormap = matplotlib.colors.ListedColormap(colors)\n",
    "# 使用 matplotlib 创建散点图，其中颜色由颜色映射对象和颜色索引共同决定，alpha 是点的透明度\n",
    "plt.scatter(x, y, c=color_indices, cmap=colormap, alpha=0.3)\n",
    "\n",
    "# 为图形添加标题\n",
    "plt.title(\"Amazon ratings visualized in language using t-SNE\")"
   ]
  },
  {
   "cell_type": "markdown",
   "metadata": {},
   "source": [
    "**t-SNE降维后，产生了大约3个大类，其中1个大类的评论大多是负面的。**"
   ]
  },
  {
   "cell_type": "code",
   "execution_count": null,
   "metadata": {},
   "outputs": [],
   "source": []
  },
  {
   "cell_type": "code",
   "execution_count": null,
   "metadata": {},
   "outputs": [],
   "source": []
  },
  {
   "cell_type": "markdown",
   "metadata": {},
   "source": [
    "## 4. 使用 K-Means 聚类，然后使用 t-SNE 可视化"
   ]
  },
  {
   "cell_type": "code",
   "execution_count": 206,
   "metadata": {},
   "outputs": [
    {
     "name": "stderr",
     "output_type": "stream",
     "text": [
      "/Users/tiger/anaconda3/envs/openai-quickstart/lib/python3.10/site-packages/sklearn/cluster/_kmeans.py:1412: FutureWarning: The default value of `n_init` will change from 10 to 'auto' in 1.4. Set the value of `n_init` explicitly to suppress the warning\n",
      "  super()._check_params_vs_input(X, default_n_init=10)\n"
     ]
    }
   ],
   "source": [
    "import numpy as np\n",
    "# 从 scikit-learn中导入 KMeans 类。KMeans 是一个实现 K-Means 聚类算法的类。\n",
    "from sklearn.cluster import KMeans\n",
    "\n",
    "# np.vstack 是一个将输入数据堆叠到一个数组的函数（在垂直方向）。\n",
    "# 这里它用于将所有的 ada_embedding 值堆叠成一个矩阵。\n",
    "# matrix = np.vstack(df.ada_embedding.values)\n",
    "\n",
    "# 定义要生成的聚类数。\n",
    "n_clusters = 4\n",
    "\n",
    "# 创建一个 KMeans 对象，用于进行 K-Means 聚类。\n",
    "# n_clusters 参数指定了要创建的聚类的数量；\n",
    "# init 参数指定了初始化方法（在这种情况下是 'k-means++'）；\n",
    "# random_state 参数为随机数生成器设定了种子值，用于生成初始聚类中心。\n",
    "kmeans = KMeans(n_clusters = n_clusters, init='k-means++', random_state=42)\n",
    "\n",
    "# 使用 matrix（我们之前创建的矩阵）来训练 KMeans 模型。这将执行 K-Means 聚类算法。\n",
    "kmeans.fit(matrix)\n",
    "\n",
    "# kmeans.labels_ 属性包含每个输入数据点所属的聚类的索引。\n",
    "# 这里，我们创建一个新的 'Cluster' 列，在这个列中，每个数据点都被赋予其所属的聚类的标签。\n",
    "df_embedded['Cluster'] = kmeans.labels_"
   ]
  },
  {
   "cell_type": "code",
   "execution_count": 207,
   "metadata": {},
   "outputs": [
    {
     "data": {
      "text/plain": [
       "VIN (1-10)\n",
       "1W9WL21BXA    0\n",
       "1W9WL21B6A    0\n",
       "1W9WL21B6A    0\n",
       "YV4BR0CZ5N    0\n",
       "7JRBR0FL1N    0\n",
       "             ..\n",
       "WA1AAAGE3P    3\n",
       "WA1VABGE1P    3\n",
       "WA1VABGE7M    1\n",
       "WAUUPBFF9H    0\n",
       "WAUTPBFF5H    0\n",
       "Name: Cluster, Length: 1000, dtype: int32"
      ]
     },
     "execution_count": 207,
     "metadata": {},
     "output_type": "execute_result"
    }
   ],
   "source": [
    "df_embedded['Cluster']"
   ]
  },
  {
   "cell_type": "code",
   "execution_count": 208,
   "metadata": {},
   "outputs": [
    {
     "data": {
      "image/png": "[encoded data removed]",
      "text/plain": [
       "<Figure size 640x480 with 1 Axes>"
      ]
     },
     "metadata": {},
     "output_type": "display_data"
    }
   ],
   "source": [
    "# 首先为每个聚类定义一个颜色。\n",
    "colors = [\"red\", \"green\", \"blue\", \"purple\"]\n",
    "\n",
    "# 然后，你可以使用 t-SNE 来降维数据。这里，我们只考虑 'embedding_vec' 列。\n",
    "tsne_model = TSNE(n_components=2, random_state=42)\n",
    "vis_data = tsne_model.fit_transform(matrix)\n",
    "\n",
    "# 现在，你可以从降维后的数据中获取 x 和 y 坐标。\n",
    "x = vis_data[:, 0]\n",
    "y = vis_data[:, 1]\n",
    "\n",
    "# 'Cluster' 列中的值将被用作颜色索引。\n",
    "color_indices = df_embedded['Cluster'].values\n",
    "\n",
    "# 创建一个基于预定义颜色的颜色映射对象\n",
    "colormap = matplotlib.colors.ListedColormap(colors)\n",
    "\n",
    "# 使用 matplotlib 创建散点图，其中颜色由颜色映射对象和颜色索引共同决定\n",
    "plt.scatter(x, y, c=color_indices, cmap=colormap)\n",
    "\n",
    "# 为图形添加标题\n",
    "plt.title(\"Clustering visualized in 2D using t-SNE\")\n",
    "\n",
    "# 显示图形\n",
    "plt.show()"
   ]
  },
  {
   "cell_type": "markdown",
   "metadata": {},
   "source": [
    "**K-MEANS 聚类可视化效果，4类：一个专注于狗粮，一个专注于负面评论，两个专注于正面评论。**"
   ]
  },
  {
   "cell_type": "code",
   "execution_count": null,
   "metadata": {},
   "outputs": [],
   "source": []
  },
  {
   "cell_type": "code",
   "execution_count": null,
   "metadata": {},
   "outputs": [],
   "source": []
  },
  {
   "cell_type": "markdown",
   "metadata": {},
   "source": [
    "## 5. 使用 Embedding 进行文本搜索"
   ]
  },
  {
   "cell_type": "markdown",
   "metadata": {},
   "source": [
    "![cosine](images/cosine.png)"
   ]
  },
  {
   "cell_type": "code",
   "execution_count": 192,
   "metadata": {},
   "outputs": [],
   "source": [
    "# cosine_similarity 函数计算两个嵌入向量之间的余弦相似度。\n",
    "from openai.embeddings_utils import get_embedding, cosine_similarity"
   ]
  },
  {
   "cell_type": "code",
   "execution_count": 155,
   "metadata": {},
   "outputs": [
    {
     "data": {
      "text/plain": [
       "list"
      ]
     },
     "execution_count": 155,
     "metadata": {},
     "output_type": "execute_result"
    }
   ],
   "source": [
    "type(df_embedded[\"embedding_vec\"][0])"
   ]
  },
  {
   "cell_type": "code",
   "execution_count": 204,
   "metadata": {},
   "outputs": [],
   "source": [
    "# 定义一个名为 search_reviews 的函数，\n",
    "# Pandas DataFrame 产品描述，数量，以及一个 pprint 标志（默认值为 True）。\n",
    "def search_reviews(df, combined, n=3, pprint=True):\n",
    "    product_embedding = get_embedding(\n",
    "        combined,\n",
    "        engine=\"text-embedding-ada-002\"\n",
    "    )\n",
    "    #print(product_embedding)\n",
    "    df[\"similarity\"] = df.embedding_vec.apply(lambda x: cosine_similarity(x, product_embedding))\n",
    "    print(df[\"similarity\"])\n",
    "    results = (\n",
    "        df.sort_values(\"similarity\", ascending=False)\n",
    "        .head(n)\n",
    "    )\n",
    "    print(results)\n",
    "    if pprint:\n",
    "        for r in results:\n",
    "            print(r[:200])\n",
    "            print()\n",
    "    return results"
   ]
  },
  {
   "cell_type": "code",
   "execution_count": 205,
   "metadata": {},
   "outputs": [
    {
     "name": "stdout",
     "output_type": "stream",
     "text": [
      "VIN (1-10)\n",
      "1W9WL21BXA    0.836176\n",
      "1W9WL21B6A    0.836176\n",
      "1W9WL21B6A    0.836176\n",
      "YV4BR0CZ5N    0.745533\n",
      "7JRBR0FL1N    0.742270\n",
      "                ...   \n",
      "WA1AAAGE3P    0.744878\n",
      "WA1VABGE1P    0.744878\n",
      "WA1VABGE7M    0.746400\n",
      "WAUUPBFF9H    0.741026\n",
      "WAUTPBFF5H    0.741026\n",
      "Name: similarity, Length: 1000, dtype: float64\n",
      "            Model Year                  Make   Model  \\\n",
      "VIN (1-10)                                             \n",
      "1W9WL21BXA        2010  WHEEGO ELECTRIC CARS  WHEEGO   \n",
      "1W9WL21B6A        2010  WHEEGO ELECTRIC CARS  WHEEGO   \n",
      "1W9WL21B6A        2010  WHEEGO ELECTRIC CARS  WHEEGO   \n",
      "\n",
      "                             Electric Vehicle Type  \\\n",
      "VIN (1-10)                                           \n",
      "1W9WL21BXA  Plug-in Hybrid Electric Vehicle (PHEV)   \n",
      "1W9WL21B6A  Plug-in Hybrid Electric Vehicle (PHEV)   \n",
      "1W9WL21B6A  Plug-in Hybrid Electric Vehicle (PHEV)   \n",
      "\n",
      "           Clean Alternative Fuel Vehicle (CAFV) Eligibility  Electric Range  \\\n",
      "VIN (1-10)                                                                     \n",
      "1W9WL21BXA           Clean Alternative Fuel Vehicle Eligible             100   \n",
      "1W9WL21B6A           Clean Alternative Fuel Vehicle Eligible             100   \n",
      "1W9WL21B6A           Clean Alternative Fuel Vehicle Eligible             100   \n",
      "\n",
      "           State                                           combined  n_tokens  \\\n",
      "VIN (1-10)                                                                      \n",
      "1W9WL21BXA    WA  Model: WHEEGO; EV Type: Plug-in Hybrid Electri...        33   \n",
      "1W9WL21B6A    WA  Model: WHEEGO; EV Type: Plug-in Hybrid Electri...        33   \n",
      "1W9WL21B6A    WA  Model: WHEEGO; EV Type: Plug-in Hybrid Electri...        33   \n",
      "\n",
      "                                                    embedding  \\\n",
      "VIN (1-10)                                                      \n",
      "1W9WL21BXA  [0.027527090162038803, -0.016709953546524048, ...   \n",
      "1W9WL21B6A  [0.027527090162038803, -0.016709953546524048, ...   \n",
      "1W9WL21B6A  [0.027527090162038803, -0.016709953546524048, ...   \n",
      "\n",
      "                                                embedding_vec  Cluster  \\\n",
      "VIN (1-10)                                                               \n",
      "1W9WL21BXA  [0.027527090162038803, -0.016709953546524048, ...        0   \n",
      "1W9WL21B6A  [0.027527090162038803, -0.016709953546524048, ...        0   \n",
      "1W9WL21B6A  [0.027527090162038803, -0.016709953546524048, ...        0   \n",
      "\n",
      "            similarity  \n",
      "VIN (1-10)              \n",
      "1W9WL21BXA    0.836176  \n",
      "1W9WL21B6A    0.836176  \n",
      "1W9WL21B6A    0.836176  \n",
      "Model Year\n",
      "\n",
      "Make\n",
      "\n",
      "Model\n",
      "\n",
      "Electric Vehicle Type\n",
      "\n",
      "Clean Alternative Fuel Vehicle (CAFV) Eligibility\n",
      "\n",
      "Electric Range\n",
      "\n",
      "State\n",
      "\n",
      "combined\n",
      "\n",
      "n_tokens\n",
      "\n",
      "embedding\n",
      "\n",
      "embedding_vec\n",
      "\n",
      "Cluster\n",
      "\n",
      "similarity\n",
      "\n"
     ]
    }
   ],
   "source": [
    "# 使用 'delicious beans' 作为产品描述和 3 作为数量，\n",
    "# 调用 search_reviews 函数来查找与给定产品描述最相似的前3条评论。\n",
    "# 其结果被存储在 res 变量中。\n",
    "res = search_reviews(df_embedded, 'WHEEGO', n=3)"
   ]
  },
  {
   "cell_type": "code",
   "execution_count": 195,
   "metadata": {},
   "outputs": [
    {
     "data": {
      "text/plain": [
       "VIN (1-10)\n",
       "1W9WL21BXA    0\n",
       "1W9WL21B6A    0\n",
       "1W9WL21B6A    0\n",
       "YV4BR0CZ5N    7\n",
       "7JRBR0FL1N    7\n",
       "             ..\n",
       "WA1AAAGE3P    2\n",
       "WA1VABGE1P    2\n",
       "WA1VABGE7M    3\n",
       "WAUUPBFF9H    7\n",
       "WAUTPBFF5H    7\n",
       "Name: Cluster, Length: 1000, dtype: int32"
      ]
     },
     "execution_count": 195,
     "metadata": {},
     "output_type": "execute_result"
    }
   ],
   "source": [
    "df_embedded['Cluster']"
   ]
  },
  {
   "cell_type": "code",
   "execution_count": 196,
   "metadata": {},
   "outputs": [
    {
     "data": {
      "text/plain": [
       "'Model: WHEEGO; EV Type: Plug-in Hybrid Electric Vehicle (PHEV); Clean: Clean Alternative Fuel Vehicle Eligible; Range: 100'"
      ]
     },
     "execution_count": 196,
     "metadata": {},
     "output_type": "execute_result"
    }
   ],
   "source": [
    "# 选一条类别3的评论\n",
    "df_embedded['combined'][0]"
   ]
  },
  {
   "cell_type": "code",
   "execution_count": 52,
   "metadata": {},
   "outputs": [
    {
     "name": "stdout",
     "output_type": "stream",
     "text": [
      "Model Year\n",
      "\n",
      "Make\n",
      "\n",
      "Electric Vehicle Type\n",
      "\n",
      "Clean Alternative Fuel Vehicle (CAFV) Eligibility\n",
      "\n",
      "Electric Utility\n",
      "\n",
      "combined\n",
      "\n",
      "n_tokens\n",
      "\n",
      "embedding\n",
      "\n",
      "embedding_vec\n",
      "\n",
      "Cluster\n",
      "\n",
      "similarity\n",
      "\n"
     ]
    }
   ],
   "source": [
    "res = search_reviews(df_embedded, df_embedded['combined'][0], n=3)"
   ]
  },
  {
   "cell_type": "code",
   "execution_count": 114,
   "metadata": {},
   "outputs": [
    {
     "name": "stdout",
     "output_type": "stream",
     "text": [
      "Healthy Dog Food:  This is a very healthy dog food. Good for their digestion. Also good for small puppies. My dog eats her required amount at every feeding.\n",
      "\n",
      "Doggy snacks:  My dog loves these snacks. However they are made in China and as far as I am concerned, suspect!!!! I found an abundance of American made ,human grade chicken dog snacks. Just Google fo\n",
      "\n",
      "Dogs Love Them!:  My Maltese and Cavalier King Charles love these treats!  I feel good about feeding them a healthier treat.<br />Not made in China!\n",
      "\n"
     ]
    }
   ],
   "source": [
    "res = search_reviews(df_embedded, 'dog food', n=3)"
   ]
  },
  {
   "cell_type": "code",
   "execution_count": 115,
   "metadata": {},
   "outputs": [
    {
     "name": "stdout",
     "output_type": "stream",
     "text": [
      "God Awful:  As a dabbler who enjoys spanning the entire spectrum of taste, I am more than willing to try anything once.  Both as a food aficionado and a lover of bacon, I just had to pick this up.  On\n",
      "\n",
      "Disappointed:  The metal cover has severely disformed. And most of the cookies inside have been crushed into small pieces. Shopping experience is awful. I'll never buy it online again.\n",
      "\n",
      "Just Bad:  Watery and unpleasant.  Like Yoohoo mixed with dirty dish water.  I find it quite odd that Keurig would release a product like this.  I'm sure they can come up with a decent hot chocolate a\n",
      "\n",
      "Arrived in pieces:  Not pleased at all. When I opened the box, most of the rings were broken in pieces. A total waste of money.\n",
      "\n",
      "Awesome:  They arrived before the expected time and were of fantastic quality. Would recommend to any one looking for a awesome treat\n",
      "\n"
     ]
    }
   ],
   "source": [
    "res = search_reviews(df_embedded, 'awful', n=5)"
   ]
  },
  {
   "cell_type": "code",
   "execution_count": null,
   "metadata": {},
   "outputs": [],
   "source": []
  }
 ],
 "metadata": {
  "kernelspec": {
   "display_name": "Python 3 (ipykernel)",
   "language": "python",
   "name": "python3"
  },
  "language_info": {
   "codemirror_mode": {
    "name": "ipython",
    "version": 3
   },
   "file_extension": ".py",
   "mimetype": "text/x-python",
   "name": "python",
   "nbconvert_exporter": "python",
   "pygments_lexer": "ipython3",
   "version": "3.10.12"
  },
  "vscode": {
   "interpreter": {
    "hash": "365536dcbde60510dc9073d6b991cd35db2d9bac356a11f5b64279a5e6708b97"
   }
  }
 },
 "nbformat": 4,
 "nbformat_minor": 4
}
